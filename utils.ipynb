{
  "nbformat": 4,
  "nbformat_minor": 0,
  "metadata": {
    "kernelspec": {
      "display_name": "local1-spark2python3",
      "language": "python",
      "name": "spark-python-local1-spark2python3"
    },
    "language_info": {
      "codemirror_mode": {
        "name": "ipython",
        "version": 3
      },
      "file_extension": ".py",
      "mimetype": "text/x-python",
      "name": "python",
      "nbconvert_exporter": "python",
      "pygments_lexer": "ipython3",
      "version": "3.5.2"
    },
    "colab": {
      "name": "utils.ipynb",
      "provenance": [],
      "collapsed_sections": []
    }
  },
  "cells": [
    {
      "cell_type": "markdown",
      "metadata": {
        "id": "18CoUljr_5r8",
        "colab_type": "text"
      },
      "source": [
        "# Import HDFSUtils"
      ]
    },
    {
      "cell_type": "code",
      "metadata": {
        "id": "AC1iWBu0_5r9",
        "colab_type": "code",
        "colab": {}
      },
      "source": [
        "import sys  \n",
        "sys.path.insert(0, '/var/sds/homes/XP96619/workspace/utils/')"
      ],
      "execution_count": null,
      "outputs": []
    },
    {
      "cell_type": "code",
      "metadata": {
        "id": "gyZj0AND_5sD",
        "colab_type": "code",
        "colab": {}
      },
      "source": [
        "from HDFSUtils import HDFSUtils"
      ],
      "execution_count": null,
      "outputs": []
    },
    {
      "cell_type": "markdown",
      "metadata": {
        "id": "255OdtN1_5sI",
        "colab_type": "text"
      },
      "source": [
        "### Get the list of content that is within a given path"
      ]
    },
    {
      "cell_type": "code",
      "metadata": {
        "id": "1Rn_gL1Z_5sK",
        "colab_type": "code",
        "colab": {},
        "outputId": "68497b5c-f49f-41cf-e14a-b389570a2703"
      },
      "source": [
        "path = \"/data/raw/pext/data/t_pext_rcc_balance/\"\n",
        "content = HDFSUtils(sc).get_content(path)\n",
        "\n",
        "[file.getPath().toString() for file in content]"
      ],
      "execution_count": null,
      "outputs": [
        {
          "output_type": "execute_result",
          "data": {
            "text/plain": [
              "['hdfs://pedaaswork.scmx2p100.isi/data/raw/pext/data/t_pext_rcc_balance/_SUCCESS',\n",
              " 'hdfs://pedaaswork.scmx2p100.isi/data/raw/pext/data/t_pext_rcc_balance/cutoff_date=20180531',\n",
              " 'hdfs://pedaaswork.scmx2p100.isi/data/raw/pext/data/t_pext_rcc_balance/cutoff_date=20180630',\n",
              " 'hdfs://pedaaswork.scmx2p100.isi/data/raw/pext/data/t_pext_rcc_balance/cutoff_date=20180731']"
            ]
          },
          "metadata": {
            "tags": []
          },
          "execution_count": 12
        }
      ]
    },
    {
      "cell_type": "markdown",
      "metadata": {
        "id": "mjLvPvJ__5sR",
        "colab_type": "text"
      },
      "source": [
        "### Get only the list of folders"
      ]
    },
    {
      "cell_type": "code",
      "metadata": {
        "id": "U3nJWzma_5sS",
        "colab_type": "code",
        "colab": {},
        "outputId": "4ab11a18-7301-46b0-94c4-18a0be3c2a9f"
      },
      "source": [
        "path = \"/data/raw/pext/data/t_pext_rcc_balance/\"\n",
        "\n",
        "HDFSUtils(sc).get_folders(path)"
      ],
      "execution_count": null,
      "outputs": [
        {
          "output_type": "execute_result",
          "data": {
            "text/plain": [
              "['hdfs://pedaaswork.scmx2p100.isi/data/raw/pext/data/t_pext_rcc_balance/cutoff_date=20180531',\n",
              " 'hdfs://pedaaswork.scmx2p100.isi/data/raw/pext/data/t_pext_rcc_balance/cutoff_date=20180630',\n",
              " 'hdfs://pedaaswork.scmx2p100.isi/data/raw/pext/data/t_pext_rcc_balance/cutoff_date=20180731']"
            ]
          },
          "metadata": {
            "tags": []
          },
          "execution_count": 13
        }
      ]
    },
    {
      "cell_type": "markdown",
      "metadata": {
        "id": "jGi57FsD_5sX",
        "colab_type": "text"
      },
      "source": [
        "### Getting Partitions from a Parquet Source"
      ]
    },
    {
      "cell_type": "code",
      "metadata": {
        "id": "KFpJQRJ4_5sY",
        "colab_type": "code",
        "colab": {},
        "outputId": "60cc5916-86c5-4c9d-8d93-20037e5963e0"
      },
      "source": [
        "# all partitions\n",
        "path = \"/data/master/pdco/data/retailBusinessBanking/t_pdco_credit_card_mov/\"\n",
        "HDFSUtils(sc).get_date_partitions(path)"
      ],
      "execution_count": null,
      "outputs": [
        {
          "output_type": "execute_result",
          "data": {
            "text/plain": [
              "['2020-01-31',\n",
              " '2020-01-30',\n",
              " '2020-01-29',\n",
              " '2020-01-28',\n",
              " '2020-01-27',\n",
              " '2020-01-21',\n",
              " '2019-09-30',\n",
              " '2019-09-20',\n",
              " '2019-07-31',\n",
              " '2019-06-28',\n",
              " '2019-05-27',\n",
              " '2019-05-26',\n",
              " '2019-05-24',\n",
              " '2019-05-23',\n",
              " '2019-04-30',\n",
              " '2019-03-31',\n",
              " '2019-02-28',\n",
              " '2018-12-13',\n",
              " '2018-10-31',\n",
              " '2018-08-14',\n",
              " '2018-06-08',\n",
              " '2018-05-27',\n",
              " '2017-09-30',\n",
              " '2017-09-29',\n",
              " '2017-08-31',\n",
              " '2017-07-31',\n",
              " '2017-06-30',\n",
              " '2017-05-31',\n",
              " '2017-04-28',\n",
              " '2017-03-31',\n",
              " '2017-02-28',\n",
              " '2017-01-31',\n",
              " '2016-12-31']"
            ]
          },
          "metadata": {
            "tags": []
          },
          "execution_count": 14
        }
      ]
    },
    {
      "cell_type": "code",
      "metadata": {
        "id": "uFHiQ8bM_5sd",
        "colab_type": "code",
        "colab": {},
        "outputId": "41521038-e5eb-46f7-c7cc-27b3abee354c"
      },
      "source": [
        "# We filter with partition_number to bring a desired group:\n",
        "\n",
        "path = \"/data/master/pdco/data/retailBusinessBanking/t_pdco_credit_card_mov/\"\n",
        "HDFSUtils(sc).get_date_partitions(path, partition_number = 3)"
      ],
      "execution_count": null,
      "outputs": [
        {
          "output_type": "execute_result",
          "data": {
            "text/plain": [
              "['2020-01-31', '2020-01-30', '2020-01-29']"
            ]
          },
          "metadata": {
            "tags": []
          },
          "execution_count": 15
        }
      ]
    },
    {
      "cell_type": "code",
      "metadata": {
        "id": "jzPKRYuE_5sk",
        "colab_type": "code",
        "colab": {},
        "outputId": "fe447b49-28c1-4517-c78f-3bbc9fa0b7c0"
      },
      "source": [
        "#  We filter with a desired range, within our process_date, \n",
        "#  we put the minor date in the first element then in the second the major date.\n",
        "\n",
        "path = \"/data/master/pdco/data/retailBusinessBanking/t_pdco_credit_card_mov/\"\n",
        "HDFSUtils(sc).get_date_partitions(path, process_date = [\"2018-08-14\", \"2020-01-21\"])"
      ],
      "execution_count": null,
      "outputs": [
        {
          "output_type": "execute_result",
          "data": {
            "text/plain": [
              "['2020-01-21',\n",
              " '2019-09-30',\n",
              " '2019-09-20',\n",
              " '2019-07-31',\n",
              " '2019-06-28',\n",
              " '2019-05-27',\n",
              " '2019-05-26',\n",
              " '2019-05-24',\n",
              " '2019-05-23',\n",
              " '2019-04-30',\n",
              " '2019-03-31',\n",
              " '2019-02-28',\n",
              " '2018-12-13',\n",
              " '2018-10-31',\n",
              " '2018-08-14']"
            ]
          },
          "metadata": {
            "tags": []
          },
          "execution_count": 16
        }
      ]
    },
    {
      "cell_type": "code",
      "metadata": {
        "id": "zxsiAyM9_5sp",
        "colab_type": "code",
        "colab": {},
        "outputId": "1681c4ec-f0bd-4125-f29c-735ebf6037f4"
      },
      "source": [
        "# We filter with a cut-off date\n",
        "\n",
        "path = \"/data/master/pdco/data/retailBusinessBanking/t_pdco_credit_card_mov/\"\n",
        "HDFSUtils(sc).get_date_partitions(path, process_date = \"2018-08-14\")"
      ],
      "execution_count": null,
      "outputs": [
        {
          "output_type": "execute_result",
          "data": {
            "text/plain": [
              "['2018-08-14',\n",
              " '2018-06-08',\n",
              " '2018-05-27',\n",
              " '2017-09-30',\n",
              " '2017-09-29',\n",
              " '2017-08-31',\n",
              " '2017-07-31',\n",
              " '2017-06-30',\n",
              " '2017-05-31',\n",
              " '2017-04-28',\n",
              " '2017-03-31',\n",
              " '2017-02-28',\n",
              " '2017-01-31',\n",
              " '2016-12-31']"
            ]
          },
          "metadata": {
            "tags": []
          },
          "execution_count": 17
        }
      ]
    },
    {
      "cell_type": "code",
      "metadata": {
        "id": "xRjl7cgA_5ss",
        "colab_type": "code",
        "colab": {},
        "outputId": "0aeef03c-07b6-48a7-eb30-17b6b4ac715d"
      },
      "source": [
        "# We filter with a cut-off date plus an operation\n",
        "\n",
        "path = \"/data/master/pdco/data/retailBusinessBanking/t_pdco_credit_card_mov/\"\n",
        "HDFSUtils(sc).get_date_partitions(path, process_date = \"2018-08-14\", operation=\"<\")"
      ],
      "execution_count": null,
      "outputs": [
        {
          "output_type": "execute_result",
          "data": {
            "text/plain": [
              "['2020-01-31',\n",
              " '2020-01-30',\n",
              " '2020-01-29',\n",
              " '2020-01-28',\n",
              " '2020-01-27',\n",
              " '2020-01-21',\n",
              " '2019-09-30',\n",
              " '2019-09-20',\n",
              " '2019-07-31',\n",
              " '2019-06-28',\n",
              " '2019-05-27',\n",
              " '2019-05-26',\n",
              " '2019-05-24',\n",
              " '2019-05-23',\n",
              " '2019-04-30',\n",
              " '2019-03-31',\n",
              " '2019-02-28',\n",
              " '2018-12-13',\n",
              " '2018-10-31']"
            ]
          },
          "metadata": {
            "tags": []
          },
          "execution_count": 18
        }
      ]
    },
    {
      "cell_type": "code",
      "metadata": {
        "id": "ngSkXq0s_5sy",
        "colab_type": "code",
        "colab": {},
        "outputId": "ce24c4cb-202e-452c-d2a8-54433348ba93"
      },
      "source": [
        "# Get partitions from an avro source, for this we pass the date_format = '%Y%m%d'\n",
        "\n",
        "path = \"/data/raw/pext/data/t_pext_rcc_balance\"\n",
        "HDFSUtils(sc, date_format = '%Y%m%d').get_date_partitions(path)"
      ],
      "execution_count": null,
      "outputs": [
        {
          "output_type": "execute_result",
          "data": {
            "text/plain": [
              "['20180731', '20180630', '20180531']"
            ]
          },
          "metadata": {
            "tags": []
          },
          "execution_count": 19
        }
      ]
    },
    {
      "cell_type": "markdown",
      "metadata": {
        "id": "JfAZqU_D_5s3",
        "colab_type": "text"
      },
      "source": [
        "# Import HDFSUtils"
      ]
    },
    {
      "cell_type": "code",
      "metadata": {
        "id": "tt4_rVmm_5s4",
        "colab_type": "code",
        "colab": {}
      },
      "source": [
        "from DataFrameUtils import DataFrameUtils"
      ],
      "execution_count": null,
      "outputs": []
    },
    {
      "cell_type": "markdown",
      "metadata": {
        "id": "YjVI2pbz_5s8",
        "colab_type": "text"
      },
      "source": [
        "### Reading without parameters."
      ]
    },
    {
      "cell_type": "code",
      "metadata": {
        "id": "Ew5cfaHC_5s9",
        "colab_type": "code",
        "colab": {},
        "outputId": "f11927d1-38f4-46c6-ac75-a0c73c2d76d2"
      },
      "source": [
        "# Read .parquet file path without specifying partition\n",
        "\n",
        "path = \"/data/master/pctk/data/t_pctk_rcc_balance\"\n",
        "\n",
        "DataFrameUtils(spark, sc=sc).read_dataframe(path).show(2)"
      ],
      "execution_count": null,
      "outputs": [
        {
          "output_type": "stream",
          "text": [
            "+------------------+---------------+-------------+---------------+------------------+-----------------+--------------+----------------+--------------------+-----------+\n",
            "|register_type_type|sbs_customer_id|sbs_entity_id|sbs_credit_type|product_definer_id|delay_days_number|balance_amount|credit_risk_type|   audtiminsert_date|cutoff_date|\n",
            "+------------------+---------------+-------------+---------------+------------------+-----------------+--------------+----------------+--------------------+-----------+\n",
            "|                 2|     0198590495|        00006|             09|    14111302000000|                0|  39201.770000|               0|2020-06-01 02:08:...| 2020-07-31|\n",
            "|                 2|     0198105163|        00109|             09|    14181300000000|                0|    651.230000|               0|2020-06-01 02:08:...| 2020-07-31|\n",
            "+------------------+---------------+-------------+---------------+------------------+-----------------+--------------+----------------+--------------------+-----------+\n",
            "only showing top 2 rows\n",
            "\n"
          ],
          "name": "stdout"
        }
      ]
    },
    {
      "cell_type": "code",
      "metadata": {
        "id": "bUNwYOhU_5tB",
        "colab_type": "code",
        "colab": {},
        "outputId": "8f40f319-4456-4a75-83de-b8140e103b19"
      },
      "source": [
        "# Read several .parquet routes by specifying partition\n",
        "\n",
        "paths = [\"/data/master/pctk/data/t_pctk_rcc_balance/cutoff_date=2020-06-30\", \"/data/master/pctk/data/t_pctk_rcc_balance/cutoff_date=2020-07-31\"]\n",
        "\n",
        "DataFrameUtils(spark, sc=sc).read_dataframe(paths=paths).show(2)"
      ],
      "execution_count": null,
      "outputs": [
        {
          "output_type": "stream",
          "text": [
            "+------------------+---------------+-------------+---------------+------------------+-----------------+--------------+----------------+--------------------+\n",
            "|register_type_type|sbs_customer_id|sbs_entity_id|sbs_credit_type|product_definer_id|delay_days_number|balance_amount|credit_risk_type|   audtiminsert_date|\n",
            "+------------------+---------------+-------------+---------------+------------------+-----------------+--------------+----------------+--------------------+\n",
            "|                 2|     0198590495|        00006|             09|    14111302000000|                0|  39201.770000|               0|2020-06-01 02:08:...|\n",
            "|                 2|     0198105163|        00109|             09|    14181300000000|                0|    651.230000|               0|2020-06-01 02:08:...|\n",
            "+------------------+---------------+-------------+---------------+------------------+-----------------+--------------+----------------+--------------------+\n",
            "only showing top 2 rows\n",
            "\n"
          ],
          "name": "stdout"
        }
      ]
    },
    {
      "cell_type": "code",
      "metadata": {
        "id": "rfpmoLnf_5tH",
        "colab_type": "code",
        "colab": {},
        "outputId": "327ed964-5983-4923-83ad-0568b30f9dc8"
      },
      "source": [
        "# Read various .parquet paths by specifying partition and retrieving the partition name\n",
        "\n",
        "paths = [\"/data/master/pctk/data/t_pctk_rcc_balance/cutoff_date=2020-06-30\", \"/data/master/pctk/data/t_pctk_rcc_balance/cutoff_date=2020-07-31\"]\n",
        "\n",
        "DataFrameUtils(spark, sc=sc).read_dataframe(paths=paths, options = {'basePath': \"/data/master/pctk/data/t_pctk_rcc_balance/\"}).show(2)"
      ],
      "execution_count": null,
      "outputs": [
        {
          "output_type": "stream",
          "text": [
            "+------------------+---------------+-------------+---------------+------------------+-----------------+--------------+----------------+--------------------+-----------+\n",
            "|register_type_type|sbs_customer_id|sbs_entity_id|sbs_credit_type|product_definer_id|delay_days_number|balance_amount|credit_risk_type|   audtiminsert_date|cutoff_date|\n",
            "+------------------+---------------+-------------+---------------+------------------+-----------------+--------------+----------------+--------------------+-----------+\n",
            "|                 2|     0198590495|        00006|             09|    14111302000000|                0|  39201.770000|               0|2020-06-01 02:08:...| 2020-07-31|\n",
            "|                 2|     0198105163|        00109|             09|    14181300000000|                0|    651.230000|               0|2020-06-01 02:08:...| 2020-07-31|\n",
            "+------------------+---------------+-------------+---------------+------------------+-----------------+--------------+----------------+--------------------+-----------+\n",
            "only showing top 2 rows\n",
            "\n"
          ],
          "name": "stdout"
        }
      ]
    },
    {
      "cell_type": "code",
      "metadata": {
        "id": "r_gTCPUv_5tL",
        "colab_type": "code",
        "colab": {},
        "outputId": "d0b289af-f36b-4683-ea9f-ae0c90a58ba7"
      },
      "source": [
        "# Read .avro file path without specifying partition\n",
        "\n",
        "path = \"/data/raw/pext/data/t_pext_rcc_balance/\"\n",
        "\n",
        "DataFrameUtils(spark, sc=sc, date_format = '%Y%m%d').read_dataframe(path).show(2)"
      ],
      "execution_count": null,
      "outputs": [
        {
          "output_type": "stream",
          "text": [
            "+------------------+---------------+-------------+---------------+------------------+-----------------+------------------+----------------+-----------------+-----------+\n",
            "|register_type_type|sbs_customer_id|sbs_entity_id|sbs_credit_type|product_definer_id|delay_days_number|    balance_amount|credit_risk_type|audtiminsert_date|cutoff_date|\n",
            "+------------------+---------------+-------------+---------------+------------------+-----------------+------------------+----------------+-----------------+-----------+\n",
            "|                 2|     0095266282|        00238|             10|    14110206020000|             0000|000000000000192030|               0|       1588985191|   20180531|\n",
            "|                 2|     0095266282|        00238|             10|    84141000000000|             0000|000000000000192030|               0|       1588985191|   20180531|\n",
            "+------------------+---------------+-------------+---------------+------------------+-----------------+------------------+----------------+-----------------+-----------+\n",
            "only showing top 2 rows\n",
            "\n"
          ],
          "name": "stdout"
        }
      ]
    },
    {
      "cell_type": "code",
      "metadata": {
        "id": "P4dB66D8_5tO",
        "colab_type": "code",
        "colab": {},
        "outputId": "721a9416-b180-469c-812a-2ea05348ec3f"
      },
      "source": [
        "# Read .txt file path\n",
        "\n",
        "path = \"/in/staging/ratransmit/external/unsubs_20161031.txt\"\n",
        "\n",
        "DataFrameUtils(spark, sc=sc).read_dataframe(path, options={\"delimiter\":\"|\", \"header\": True}).show(2)"
      ],
      "execution_count": null,
      "outputs": [
        {
          "output_type": "stream",
          "text": [
            "+-------------+------------+-----------+------+--------------------+------------+------------------------+------------------+\n",
            "|SubscriberKey|EmailAddress|FLG_CLIENTE|SendID|           EventDate|   EventType|TriggeredSendExternalKey|       UnsubReason|\n",
            "+-------------+------------+-----------+------+--------------------+------------+------------------------+------------------+\n",
            "|    105zbcvi9|        null|          1|146808|2018-09-04 10:17:...|Unsubscribed|                    null|enlace_baja_footer|\n",
            "|    11j50rzzz|        null|          1|146808|2018-09-04 10:17:...|Unsubscribed|                    null|enlace_baja_footer|\n",
            "+-------------+------------+-----------+------+--------------------+------------+------------------------+------------------+\n",
            "only showing top 2 rows\n",
            "\n"
          ],
          "name": "stdout"
        }
      ]
    },
    {
      "cell_type": "code",
      "metadata": {
        "id": "mzmwshMI_5tT",
        "colab_type": "code",
        "colab": {},
        "outputId": "f35e323d-d557-4b01-b633-adc4fe00dd54"
      },
      "source": [
        "# Read .csv file path\n",
        "\n",
        "path = \"/in/staging/ratransmit/external/users_20180627.csv\"\n",
        "\n",
        "DataFrameUtils(spark, sc=sc).read_dataframe(path, options={\"header\":True}).show(2)"
      ],
      "execution_count": null,
      "outputs": [
        {
          "output_type": "stream",
          "text": [
            "+-------+----------+---------+\n",
            "|user_id|first_name|last_name|\n",
            "+-------+----------+---------+\n",
            "|    001|       leo|    lopez|\n",
            "|    001|       leo|  juanelo|\n",
            "+-------+----------+---------+\n",
            "only showing top 2 rows\n",
            "\n"
          ],
          "name": "stdout"
        }
      ]
    },
    {
      "cell_type": "code",
      "metadata": {
        "id": "kzQ1bQPf_5tZ",
        "colab_type": "code",
        "colab": {},
        "outputId": "7c1319ca-7521-4156-c82d-8a8dba3b9e64"
      },
      "source": [
        "# Read .dat file path\n",
        "\n",
        "path = \"/in/staging/ratransmit/external/v_pdco_monthly_transactional_rcd_20190128.dat\"\n",
        "\n",
        "DataFrameUtils(spark, sc=sc).read_dataframe(path, options={\"delimiter\":\"|\"}).show(2)"
      ],
      "execution_count": null,
      "outputs": [
        {
          "output_type": "stream",
          "text": [
            "+----+---+----+---+--------+------------------+----+----+----------+---+---------------+----+-----+-----+----+--------------------+----+----+----+----+----+\n",
            "| _c0|_c1| _c2|_c3|     _c4|               _c5| _c6| _c7|       _c8|_c9|           _c10|_c11| _c12| _c13|_c14|                _c15|_c16|_c17|_c18|_c19|_c20|\n",
            "+----+---+----+---+--------+------------------+----+----+----------+---+---------------+----+-----+-----+----+--------------------+----+----+----+----+----+\n",
            "|0011|009|0383|  3|21773408|001107855001558510|0050|0001|0001-01-01|  0|141903020206061| PEN| 3.50| 3.50|   R|BAZO FLORES CAROL...|  06|  02|  99|   ?|   ?|\n",
            "|0011|009|0272|  3|26877532|001102725000188850|0050|0001|0001-01-01|  0|141903020106021| PEN|16.65|16.65|   R|CRUZ MEDINA CLAUD...|  06|  02|  99|   ?|   ?|\n",
            "+----+---+----+---+--------+------------------+----+----+----------+---+---------------+----+-----+-----+----+--------------------+----+----+----+----+----+\n",
            "only showing top 2 rows\n",
            "\n"
          ],
          "name": "stdout"
        }
      ]
    },
    {
      "cell_type": "code",
      "metadata": {
        "id": "1s1iOeIS_5td",
        "colab_type": "code",
        "colab": {},
        "outputId": "fa2a5378-525b-485c-90fb-3ab43d14eff1"
      },
      "source": [
        "# Read .ctl file path\n",
        "\n",
        "path = \"/in/staging/ratransmit/external/kexc/controlFeedBack_JOURNEY_20200512.ctl\"\n",
        "\n",
        "DataFrameUtils(spark, sc=sc).read_dataframe(path).show(2)"
      ],
      "execution_count": null,
      "outputs": [
        {
          "output_type": "stream",
          "text": [
            "+------+\n",
            "|   _c0|\n",
            "+------+\n",
            "|121193|\n",
            "+------+\n",
            "\n"
          ],
          "name": "stdout"
        }
      ]
    },
    {
      "cell_type": "code",
      "metadata": {
        "id": "tfkwPIqw_5ti",
        "colab_type": "code",
        "colab": {},
        "outputId": "1a1de6e9-b3f1-4b53-c551-ce8d95f7b197"
      },
      "source": [
        "# Read route without partition\n",
        "\n",
        "path = \"/data/master/pdco/data/cross/v_pdco_geo_location_catalog/\"\n",
        "\n",
        "DataFrameUtils(spark, sc=sc).read_dataframe(path).show(2)"
      ],
      "execution_count": null,
      "outputs": [
        {
          "output_type": "stream",
          "text": [
            "+---------+----------+---------------------------+-----------------------------+----------------------------+----------------------+----------------------+----------------+----------+--------------------+-----------+--------------------+\n",
            "|entity_id|country_id|inei_address_geolocation_id|reniec_address_geolocation_id|sunat_address_geolocation_id|address_geolocation_id|geolocation_group_desc|geolocation_type|zipcode_id|address_zone_type_id|cutoff_date|   audtiminsert_date|\n",
            "+---------+----------+---------------------------+-----------------------------+----------------------------+----------------------+----------------------+----------------+----------+--------------------+-----------+--------------------+\n",
            "|     0011|        PE|                     040115|                         null|                        null|               0601015|              QUEQUE�A|               1|         @|                   P| 2017-09-30|2018-09-07 20:55:...|\n",
            "|     0011|        PE|                     040408|                         null|                        null|               0604008|             MACHAGUAY|               1|         @|                   P| 2017-09-30|2018-09-07 20:55:...|\n",
            "+---------+----------+---------------------------+-----------------------------+----------------------------+----------------------+----------------------+----------------+----------+--------------------+-----------+--------------------+\n",
            "only showing top 2 rows\n",
            "\n"
          ],
          "name": "stdout"
        }
      ]
    },
    {
      "cell_type": "markdown",
      "metadata": {
        "id": "5DsU_b7r_5tm",
        "colab_type": "text"
      },
      "source": [
        "### Reading with parameters:"
      ]
    },
    {
      "cell_type": "code",
      "metadata": {
        "id": "We6z6nNU_5tm",
        "colab_type": "code",
        "colab": {},
        "outputId": "1b382f19-e8e0-43b2-c4ca-c33dcc214a51"
      },
      "source": [
        "# read parquet route with last partition\n",
        "\n",
        "path = \"/data/master/pctk/data/t_pctk_rcc_balance\"\n",
        "\n",
        "DataFrameUtils(spark, sc=sc).read_dataframes(path, partition_number = 1).show(2)"
      ],
      "execution_count": null,
      "outputs": [
        {
          "output_type": "stream",
          "text": [
            "+------------------+---------------+-------------+---------------+------------------+-----------------+--------------+----------------+--------------------+\n",
            "|register_type_type|sbs_customer_id|sbs_entity_id|sbs_credit_type|product_definer_id|delay_days_number|balance_amount|credit_risk_type|   audtiminsert_date|\n",
            "+------------------+---------------+-------------+---------------+------------------+-----------------+--------------+----------------+--------------------+\n",
            "|                 2|     0198590495|        00006|             09|    14111302000000|                0|  39201.770000|               0|2020-06-01 02:08:...|\n",
            "|                 2|     0198105163|        00109|             09|    14181300000000|                0|    651.230000|               0|2020-06-01 02:08:...|\n",
            "+------------------+---------------+-------------+---------------+------------------+-----------------+--------------+----------------+--------------------+\n",
            "only showing top 2 rows\n",
            "\n"
          ],
          "name": "stdout"
        }
      ]
    },
    {
      "cell_type": "code",
      "metadata": {
        "id": "rIZkqZ0r_5tr",
        "colab_type": "code",
        "colab": {},
        "outputId": "6bb258fd-71c8-4968-c203-4aca66f609c8"
      },
      "source": [
        "# read parquet route with the last three partitions retaining the partition name\n",
        "\n",
        "path = \"/data/master/pctk/data/t_pctk_rcc_balance\"\n",
        "\n",
        "DataFrameUtils(spark, sc=sc).read_dataframes(path, partition_number = 3, options = {\"basePath\": path}).show(2)"
      ],
      "execution_count": null,
      "outputs": [
        {
          "output_type": "stream",
          "text": [
            "+------------------+---------------+-------------+---------------+------------------+-----------------+--------------+----------------+--------------------+-----------+\n",
            "|register_type_type|sbs_customer_id|sbs_entity_id|sbs_credit_type|product_definer_id|delay_days_number|balance_amount|credit_risk_type|   audtiminsert_date|cutoff_date|\n",
            "+------------------+---------------+-------------+---------------+------------------+-----------------+--------------+----------------+--------------------+-----------+\n",
            "|                 2|     0198590495|        00006|             09|    14111302000000|                0|  39201.770000|               0|2020-06-01 02:08:...| 2020-07-31|\n",
            "|                 2|     0198105163|        00109|             09|    14181300000000|                0|    651.230000|               0|2020-06-01 02:08:...| 2020-07-31|\n",
            "+------------------+---------------+-------------+---------------+------------------+-----------------+--------------+----------------+--------------------+-----------+\n",
            "only showing top 2 rows\n",
            "\n"
          ],
          "name": "stdout"
        }
      ]
    },
    {
      "cell_type": "code",
      "metadata": {
        "id": "i1NgFigi_5tu",
        "colab_type": "code",
        "colab": {},
        "outputId": "f9208c42-f3cd-4060-a97c-edb013db22b6"
      },
      "source": [
        "# read parquet route from a date range\n",
        "\n",
        "path = \"/data/master/pctk/data/t_pctk_rcc_balance\"\n",
        "\n",
        "DataFrameUtils(spark, sc=sc).read_dataframes(path, process_date=[\"2020-05-31\", \"2020-07-31\"], options = {\"basePath\": path}).show(2)"
      ],
      "execution_count": null,
      "outputs": [
        {
          "output_type": "stream",
          "text": [
            "+------------------+---------------+-------------+---------------+------------------+-----------------+--------------+----------------+--------------------+-----------+\n",
            "|register_type_type|sbs_customer_id|sbs_entity_id|sbs_credit_type|product_definer_id|delay_days_number|balance_amount|credit_risk_type|   audtiminsert_date|cutoff_date|\n",
            "+------------------+---------------+-------------+---------------+------------------+-----------------+--------------+----------------+--------------------+-----------+\n",
            "|                 2|     0198590495|        00006|             09|    14111302000000|                0|  39201.770000|               0|2020-06-01 02:08:...| 2020-07-31|\n",
            "|                 2|     0198105163|        00109|             09|    14181300000000|                0|    651.230000|               0|2020-06-01 02:08:...| 2020-07-31|\n",
            "+------------------+---------------+-------------+---------------+------------------+-----------------+--------------+----------------+--------------------+-----------+\n",
            "only showing top 2 rows\n",
            "\n"
          ],
          "name": "stdout"
        }
      ]
    }
  ]
}