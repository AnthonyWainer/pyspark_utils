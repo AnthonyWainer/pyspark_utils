{
 "cells": [
  {
   "cell_type": "markdown",
   "metadata": {},
   "source": [
    "# Import HDFSUtils"
   ]
  },
  {
   "cell_type": "code",
   "execution_count": 1,
   "metadata": {},
   "outputs": [],
   "source": [
    "import sys  \n",
    "sys.path.insert(0, '/var/sds/homes/XP96619/workspace/utils/')"
   ]
  },
  {
   "cell_type": "code",
   "execution_count": 2,
   "metadata": {},
   "outputs": [],
   "source": [
    "from HDFSUtils import HDFSUtils"
   ]
  },
  {
   "cell_type": "markdown",
   "metadata": {},
   "source": [
    "### Get the list of content that is within a given path"
   ]
  },
  {
   "cell_type": "code",
   "execution_count": 3,
   "metadata": {},
   "outputs": [
    {
     "data": {
      "text/plain": [
       "['hdfs://pedaaswork.scmx2p100.isi/data/raw/pext/data/t_pext_rcc_balance/_SUCCESS',\n",
       " 'hdfs://pedaaswork.scmx2p100.isi/data/raw/pext/data/t_pext_rcc_balance/cutoff_date=20180531',\n",
       " 'hdfs://pedaaswork.scmx2p100.isi/data/raw/pext/data/t_pext_rcc_balance/cutoff_date=20180630',\n",
       " 'hdfs://pedaaswork.scmx2p100.isi/data/raw/pext/data/t_pext_rcc_balance/cutoff_date=20180731']"
      ]
     },
     "execution_count": 3,
     "metadata": {},
     "output_type": "execute_result"
    }
   ],
   "source": [
    "path = \"/data/raw/pext/data/t_pext_rcc_balance/\"\n",
    "\n",
    "list(HDFSUtils(sc).get_content(path))"
   ]
  },
  {
   "cell_type": "markdown",
   "metadata": {},
   "source": [
    "### Get only the list of folders"
   ]
  },
  {
   "cell_type": "code",
   "execution_count": 4,
   "metadata": {},
   "outputs": [
    {
     "data": {
      "text/plain": [
       "['hdfs://pedaaswork.scmx2p100.isi/data/raw/pext/data/t_pext_rcc_balance/cutoff_date=20180531',\n",
       " 'hdfs://pedaaswork.scmx2p100.isi/data/raw/pext/data/t_pext_rcc_balance/cutoff_date=20180630',\n",
       " 'hdfs://pedaaswork.scmx2p100.isi/data/raw/pext/data/t_pext_rcc_balance/cutoff_date=20180731']"
      ]
     },
     "execution_count": 4,
     "metadata": {},
     "output_type": "execute_result"
    }
   ],
   "source": [
    "path = \"/data/raw/pext/data/t_pext_rcc_balance/\"\n",
    "\n",
    "list(HDFSUtils(sc).get_folders(path))"
   ]
  },
  {
   "cell_type": "markdown",
   "metadata": {},
   "source": [
    "### Get only the list of files"
   ]
  },
  {
   "cell_type": "code",
   "execution_count": 5,
   "metadata": {},
   "outputs": [
    {
     "data": {
      "text/plain": [
       "['hdfs://pedaaswork.scmx2p100.isi/data/raw/pext/data/t_pext_rcc_balance/cutoff_date=20180531/part-00001-59364dc0-fc95-4467-851a-d1667a8be31d.c000.avro',\n",
       " 'hdfs://pedaaswork.scmx2p100.isi/data/raw/pext/data/t_pext_rcc_balance/cutoff_date=20180531/part-00000-59364dc0-fc95-4467-851a-d1667a8be31d.c000.avro',\n",
       " 'hdfs://pedaaswork.scmx2p100.isi/data/raw/pext/data/t_pext_rcc_balance/cutoff_date=20180531/part-00004-59364dc0-fc95-4467-851a-d1667a8be31d.c000.avro',\n",
       " 'hdfs://pedaaswork.scmx2p100.isi/data/raw/pext/data/t_pext_rcc_balance/cutoff_date=20180531/part-00005-59364dc0-fc95-4467-851a-d1667a8be31d.c000.avro',\n",
       " 'hdfs://pedaaswork.scmx2p100.isi/data/raw/pext/data/t_pext_rcc_balance/cutoff_date=20180531/part-00007-59364dc0-fc95-4467-851a-d1667a8be31d.c000.avro',\n",
       " 'hdfs://pedaaswork.scmx2p100.isi/data/raw/pext/data/t_pext_rcc_balance/cutoff_date=20180531/part-00002-59364dc0-fc95-4467-851a-d1667a8be31d.c000.avro',\n",
       " 'hdfs://pedaaswork.scmx2p100.isi/data/raw/pext/data/t_pext_rcc_balance/cutoff_date=20180531/part-00006-59364dc0-fc95-4467-851a-d1667a8be31d.c000.avro',\n",
       " 'hdfs://pedaaswork.scmx2p100.isi/data/raw/pext/data/t_pext_rcc_balance/cutoff_date=20180531/part-00003-59364dc0-fc95-4467-851a-d1667a8be31d.c000.avro']"
      ]
     },
     "execution_count": 5,
     "metadata": {},
     "output_type": "execute_result"
    }
   ],
   "source": [
    "path = \"/data/raw/pext/data/t_pext_rcc_balance/cutoff_date=20180531\"\n",
    "\n",
    "list(HDFSUtils(sc).get_files(path))"
   ]
  },
  {
   "cell_type": "markdown",
   "metadata": {},
   "source": [
    "### Getting Partitions from a Parquet Source"
   ]
  },
  {
   "cell_type": "code",
   "execution_count": 6,
   "metadata": {},
   "outputs": [
    {
     "data": {
      "text/plain": [
       "['2020-01-31',\n",
       " '2020-01-30',\n",
       " '2020-01-29',\n",
       " '2020-01-28',\n",
       " '2020-01-27',\n",
       " '2020-01-21',\n",
       " '2019-09-30',\n",
       " '2019-09-20',\n",
       " '2019-07-31',\n",
       " '2019-06-28',\n",
       " '2019-05-27',\n",
       " '2019-05-26',\n",
       " '2019-05-24',\n",
       " '2019-05-23',\n",
       " '2019-04-30',\n",
       " '2019-03-31',\n",
       " '2019-02-28',\n",
       " '2018-12-13',\n",
       " '2018-10-31',\n",
       " '2018-08-14',\n",
       " '2018-06-08',\n",
       " '2018-05-27',\n",
       " '2017-09-30',\n",
       " '2017-09-29',\n",
       " '2017-08-31',\n",
       " '2017-07-31',\n",
       " '2017-06-30',\n",
       " '2017-05-31',\n",
       " '2017-04-28',\n",
       " '2017-03-31',\n",
       " '2017-02-28',\n",
       " '2017-01-31',\n",
       " '2016-12-31']"
      ]
     },
     "execution_count": 6,
     "metadata": {},
     "output_type": "execute_result"
    }
   ],
   "source": [
    "# all partitions\n",
    "path = \"/data/master/pdco/data/retailBusinessBanking/t_pdco_credit_card_mov/\"\n",
    "\n",
    "HDFSUtils(sc).get_date_partitions(path)"
   ]
  },
  {
   "cell_type": "code",
   "execution_count": 7,
   "metadata": {},
   "outputs": [
    {
     "data": {
      "text/plain": [
       "['2020-01-31', '2020-01-30', '2020-01-29']"
      ]
     },
     "execution_count": 7,
     "metadata": {},
     "output_type": "execute_result"
    }
   ],
   "source": [
    "# We filter with partition_number to bring a desired group:\n",
    "\n",
    "path = \"/data/master/pdco/data/retailBusinessBanking/t_pdco_credit_card_mov/\"\n",
    "HDFSUtils(sc).get_date_partitions(path, partition_number = 3)"
   ]
  },
  {
   "cell_type": "code",
   "execution_count": 8,
   "metadata": {},
   "outputs": [
    {
     "data": {
      "text/plain": [
       "['2020-01-21',\n",
       " '2019-09-30',\n",
       " '2019-09-20',\n",
       " '2019-07-31',\n",
       " '2019-06-28',\n",
       " '2019-05-27',\n",
       " '2019-05-26',\n",
       " '2019-05-24',\n",
       " '2019-05-23',\n",
       " '2019-04-30',\n",
       " '2019-03-31',\n",
       " '2019-02-28',\n",
       " '2018-12-13',\n",
       " '2018-10-31',\n",
       " '2018-08-14']"
      ]
     },
     "execution_count": 8,
     "metadata": {},
     "output_type": "execute_result"
    }
   ],
   "source": [
    "#  We filter with a desired range, within our process_date, \n",
    "#  we put the minor date in the first element then in the second the major date.\n",
    "\n",
    "path = \"/data/master/pdco/data/retailBusinessBanking/t_pdco_credit_card_mov/\"\n",
    "HDFSUtils(sc).get_date_partitions(path, process_date = [\"2018-08-14\", \"2020-01-21\"])"
   ]
  },
  {
   "cell_type": "code",
   "execution_count": 9,
   "metadata": {},
   "outputs": [
    {
     "data": {
      "text/plain": [
       "['2018-08-14',\n",
       " '2018-06-08',\n",
       " '2018-05-27',\n",
       " '2017-09-30',\n",
       " '2017-09-29',\n",
       " '2017-08-31',\n",
       " '2017-07-31',\n",
       " '2017-06-30',\n",
       " '2017-05-31',\n",
       " '2017-04-28',\n",
       " '2017-03-31',\n",
       " '2017-02-28',\n",
       " '2017-01-31',\n",
       " '2016-12-31']"
      ]
     },
     "execution_count": 9,
     "metadata": {},
     "output_type": "execute_result"
    }
   ],
   "source": [
    "# We filter with a cut-off date\n",
    "\n",
    "path = \"/data/master/pdco/data/retailBusinessBanking/t_pdco_credit_card_mov/\"\n",
    "HDFSUtils(sc).get_date_partitions(path, process_date = \"2018-08-14\")"
   ]
  },
  {
   "cell_type": "code",
   "execution_count": 11,
   "metadata": {},
   "outputs": [
    {
     "data": {
      "text/plain": [
       "['2018-06-08',\n",
       " '2018-05-27',\n",
       " '2017-09-30',\n",
       " '2017-09-29',\n",
       " '2017-08-31',\n",
       " '2017-07-31',\n",
       " '2017-06-30',\n",
       " '2017-05-31',\n",
       " '2017-04-28',\n",
       " '2017-03-31',\n",
       " '2017-02-28',\n",
       " '2017-01-31',\n",
       " '2016-12-31']"
      ]
     },
     "execution_count": 11,
     "metadata": {},
     "output_type": "execute_result"
    }
   ],
   "source": [
    "# We filter with a cut-off date plus an operation\n",
    "\n",
    "path = \"/data/master/pdco/data/retailBusinessBanking/t_pdco_credit_card_mov/\"\n",
    "HDFSUtils(sc).get_date_partitions(path, process_date = \"2018-08-14\", operation=\"<\")"
   ]
  },
  {
   "cell_type": "code",
   "execution_count": 13,
   "metadata": {},
   "outputs": [
    {
     "data": {
      "text/plain": [
       "['2020-01-31']"
      ]
     },
     "execution_count": 13,
     "metadata": {},
     "output_type": "execute_result"
    }
   ],
   "source": [
    "# Max Partitions\n",
    "path = \"/data/master/pdco/data/retailBusinessBanking/t_pdco_credit_card_mov/\"\n",
    "HDFSUtils(sc).get_date_partitions(path, partition_number= 1)"
   ]
  },
  {
   "cell_type": "code",
   "execution_count": 14,
   "metadata": {},
   "outputs": [
    {
     "data": {
      "text/plain": [
       "['2016-12-31']"
      ]
     },
     "execution_count": 14,
     "metadata": {},
     "output_type": "execute_result"
    }
   ],
   "source": [
    "# Min Partitions\n",
    "path = \"/data/master/pdco/data/retailBusinessBanking/t_pdco_credit_card_mov/\"\n",
    "HDFSUtils(sc).get_date_partitions(path, partition_number= 1, in_reverse = False)"
   ]
  },
  {
   "cell_type": "code",
   "execution_count": 11,
   "metadata": {},
   "outputs": [
    {
     "data": {
      "text/plain": [
       "['20180731', '20180630', '20180531']"
      ]
     },
     "execution_count": 11,
     "metadata": {},
     "output_type": "execute_result"
    }
   ],
   "source": [
    "# Get partitions from an avro source, for this we pass the date_format = '%Y%m%d'\n",
    "\n",
    "path = \"/data/raw/pext/data/t_pext_rcc_balance\"\n",
    "HDFSUtils(sc, date_format = '%Y%m%d').get_date_partitions(path)"
   ]
  },
  {
   "cell_type": "markdown",
   "metadata": {},
   "source": [
    "# Import HDFSUtils"
   ]
  },
  {
   "cell_type": "code",
   "execution_count": 12,
   "metadata": {},
   "outputs": [],
   "source": [
    "from DataFrameUtils import DataFrameUtils"
   ]
  },
  {
   "cell_type": "markdown",
   "metadata": {},
   "source": [
    "### Reading without parameters."
   ]
  },
  {
   "cell_type": "code",
   "execution_count": 13,
   "metadata": {},
   "outputs": [
    {
     "name": "stdout",
     "output_type": "stream",
     "text": [
      "+------------------+---------------+-------------+---------------+------------------+-----------------+--------------+----------------+--------------------+-----------+\n",
      "|register_type_type|sbs_customer_id|sbs_entity_id|sbs_credit_type|product_definer_id|delay_days_number|balance_amount|credit_risk_type|   audtiminsert_date|cutoff_date|\n",
      "+------------------+---------------+-------------+---------------+------------------+-----------------+--------------+----------------+--------------------+-----------+\n",
      "|                 2|     0198590495|        00006|             09|    14111302000000|                0|  39201.770000|               0|2020-06-01 02:08:...| 2020-07-31|\n",
      "|                 2|     0198105163|        00109|             09|    14181300000000|                0|    651.230000|               0|2020-06-01 02:08:...| 2020-07-31|\n",
      "+------------------+---------------+-------------+---------------+------------------+-----------------+--------------+----------------+--------------------+-----------+\n",
      "only showing top 2 rows\n",
      "\n"
     ]
    }
   ],
   "source": [
    "# Read .parquet file path without specifying partition\n",
    "\n",
    "path = \"/data/master/pctk/data/t_pctk_rcc_balance\"\n",
    "\n",
    "DataFrameUtils(spark, sc=sc).read_dataframe(path).show(2)"
   ]
  },
  {
   "cell_type": "code",
   "execution_count": 14,
   "metadata": {},
   "outputs": [
    {
     "name": "stdout",
     "output_type": "stream",
     "text": [
      "+------------------+---------------+-------------+---------------+------------------+-----------------+--------------+----------------+--------------------+\n",
      "|register_type_type|sbs_customer_id|sbs_entity_id|sbs_credit_type|product_definer_id|delay_days_number|balance_amount|credit_risk_type|   audtiminsert_date|\n",
      "+------------------+---------------+-------------+---------------+------------------+-----------------+--------------+----------------+--------------------+\n",
      "|                 2|     0198590495|        00006|             09|    14111302000000|                0|  39201.770000|               0|2020-06-01 02:08:...|\n",
      "|                 2|     0198105163|        00109|             09|    14181300000000|                0|    651.230000|               0|2020-06-01 02:08:...|\n",
      "+------------------+---------------+-------------+---------------+------------------+-----------------+--------------+----------------+--------------------+\n",
      "only showing top 2 rows\n",
      "\n"
     ]
    }
   ],
   "source": [
    "# Read several .parquet routes by specifying partition\n",
    "\n",
    "paths = [\"/data/master/pctk/data/t_pctk_rcc_balance/cutoff_date=2020-06-30\", \"/data/master/pctk/data/t_pctk_rcc_balance/cutoff_date=2020-07-31\"]\n",
    "\n",
    "DataFrameUtils(spark, sc=sc).read_dataframe(paths=paths).show(2)"
   ]
  },
  {
   "cell_type": "code",
   "execution_count": 15,
   "metadata": {},
   "outputs": [
    {
     "name": "stdout",
     "output_type": "stream",
     "text": [
      "+------------------+---------------+-------------+---------------+------------------+-----------------+--------------+----------------+--------------------+-----------+\n",
      "|register_type_type|sbs_customer_id|sbs_entity_id|sbs_credit_type|product_definer_id|delay_days_number|balance_amount|credit_risk_type|   audtiminsert_date|cutoff_date|\n",
      "+------------------+---------------+-------------+---------------+------------------+-----------------+--------------+----------------+--------------------+-----------+\n",
      "|                 2|     0198590495|        00006|             09|    14111302000000|                0|  39201.770000|               0|2020-06-01 02:08:...| 2020-07-31|\n",
      "|                 2|     0198105163|        00109|             09|    14181300000000|                0|    651.230000|               0|2020-06-01 02:08:...| 2020-07-31|\n",
      "+------------------+---------------+-------------+---------------+------------------+-----------------+--------------+----------------+--------------------+-----------+\n",
      "only showing top 2 rows\n",
      "\n"
     ]
    }
   ],
   "source": [
    "# Read various .parquet paths by specifying partition and retrieving the partition name\n",
    "\n",
    "paths = [\"/data/master/pctk/data/t_pctk_rcc_balance/cutoff_date=2020-06-30\", \"/data/master/pctk/data/t_pctk_rcc_balance/cutoff_date=2020-07-31\"]\n",
    "\n",
    "DataFrameUtils(spark, sc=sc).read_dataframe(paths=paths, options = {'basePath': \"/data/master/pctk/data/t_pctk_rcc_balance/\"}).show(2)"
   ]
  },
  {
   "cell_type": "code",
   "execution_count": 16,
   "metadata": {},
   "outputs": [
    {
     "name": "stdout",
     "output_type": "stream",
     "text": [
      "+------------------+---------------+-------------+---------------+------------------+-----------------+------------------+----------------+-----------------+-----------+\n",
      "|register_type_type|sbs_customer_id|sbs_entity_id|sbs_credit_type|product_definer_id|delay_days_number|    balance_amount|credit_risk_type|audtiminsert_date|cutoff_date|\n",
      "+------------------+---------------+-------------+---------------+------------------+-----------------+------------------+----------------+-----------------+-----------+\n",
      "|                 2|     0095266282|        00238|             10|    14110206020000|             0000|000000000000192030|               0|       1588985191|   20180531|\n",
      "|                 2|     0095266282|        00238|             10|    84141000000000|             0000|000000000000192030|               0|       1588985191|   20180531|\n",
      "+------------------+---------------+-------------+---------------+------------------+-----------------+------------------+----------------+-----------------+-----------+\n",
      "only showing top 2 rows\n",
      "\n"
     ]
    }
   ],
   "source": [
    "# Read .avro file path without specifying partition\n",
    "\n",
    "path = \"/data/raw/pext/data/t_pext_rcc_balance/\"\n",
    "\n",
    "DataFrameUtils(spark, sc=sc, date_format = '%Y%m%d').read_dataframe(path).show(2)"
   ]
  },
  {
   "cell_type": "code",
   "execution_count": 17,
   "metadata": {},
   "outputs": [
    {
     "name": "stdout",
     "output_type": "stream",
     "text": [
      "+-------------+------------+-----------+------+--------------------+------------+------------------------+------------------+\n",
      "|SubscriberKey|EmailAddress|FLG_CLIENTE|SendID|           EventDate|   EventType|TriggeredSendExternalKey|       UnsubReason|\n",
      "+-------------+------------+-----------+------+--------------------+------------+------------------------+------------------+\n",
      "|    105zbcvi9|        null|          1|146808|2018-09-04 10:17:...|Unsubscribed|                    null|enlace_baja_footer|\n",
      "|    11j50rzzz|        null|          1|146808|2018-09-04 10:17:...|Unsubscribed|                    null|enlace_baja_footer|\n",
      "+-------------+------------+-----------+------+--------------------+------------+------------------------+------------------+\n",
      "only showing top 2 rows\n",
      "\n"
     ]
    }
   ],
   "source": [
    "# Read .txt file path\n",
    "\n",
    "path = \"/in/staging/ratransmit/external/unsubs_20161031.txt\"\n",
    "\n",
    "DataFrameUtils(spark, sc=sc).read_dataframe(path, options={\"delimiter\":\"|\", \"header\": True}).show(2)"
   ]
  },
  {
   "cell_type": "code",
   "execution_count": 18,
   "metadata": {},
   "outputs": [
    {
     "name": "stdout",
     "output_type": "stream",
     "text": [
      "+-------+----------+---------+\n",
      "|user_id|first_name|last_name|\n",
      "+-------+----------+---------+\n",
      "|    001|       leo|    lopez|\n",
      "|    001|       leo|  juanelo|\n",
      "+-------+----------+---------+\n",
      "only showing top 2 rows\n",
      "\n"
     ]
    }
   ],
   "source": [
    "# Read .csv file path\n",
    "\n",
    "path = \"/in/staging/ratransmit/external/users_20180627.csv\"\n",
    "\n",
    "DataFrameUtils(spark, sc=sc).read_dataframe(path, options={\"header\":True}).show(2)"
   ]
  },
  {
   "cell_type": "code",
   "execution_count": 19,
   "metadata": {},
   "outputs": [
    {
     "name": "stdout",
     "output_type": "stream",
     "text": [
      "+----+---+----+---+--------+------------------+----+----+----------+---+---------------+----+-----+-----+----+--------------------+----+----+----+----+----+\n",
      "| _c0|_c1| _c2|_c3|     _c4|               _c5| _c6| _c7|       _c8|_c9|           _c10|_c11| _c12| _c13|_c14|                _c15|_c16|_c17|_c18|_c19|_c20|\n",
      "+----+---+----+---+--------+------------------+----+----+----------+---+---------------+----+-----+-----+----+--------------------+----+----+----+----+----+\n",
      "|0011|009|0383|  3|21773408|001107855001558510|0050|0001|0001-01-01|  0|141903020206061| PEN| 3.50| 3.50|   R|BAZO FLORES CAROL...|  06|  02|  99|   ?|   ?|\n",
      "|0011|009|0272|  3|26877532|001102725000188850|0050|0001|0001-01-01|  0|141903020106021| PEN|16.65|16.65|   R|CRUZ MEDINA CLAUD...|  06|  02|  99|   ?|   ?|\n",
      "+----+---+----+---+--------+------------------+----+----+----------+---+---------------+----+-----+-----+----+--------------------+----+----+----+----+----+\n",
      "only showing top 2 rows\n",
      "\n"
     ]
    }
   ],
   "source": [
    "# Read .dat file path\n",
    "\n",
    "path = \"/in/staging/ratransmit/external/v_pdco_monthly_transactional_rcd_20190128.dat\"\n",
    "\n",
    "DataFrameUtils(spark, sc=sc).read_dataframe(path, options={\"delimiter\":\"|\"}).show(2)"
   ]
  },
  {
   "cell_type": "code",
   "execution_count": 20,
   "metadata": {},
   "outputs": [
    {
     "name": "stdout",
     "output_type": "stream",
     "text": [
      "+------+\n",
      "|   _c0|\n",
      "+------+\n",
      "|121193|\n",
      "+------+\n",
      "\n"
     ]
    }
   ],
   "source": [
    "# Read .ctl file path\n",
    "\n",
    "path = \"/in/staging/ratransmit/external/kexc/controlFeedBack_JOURNEY_20200512.ctl\"\n",
    "\n",
    "DataFrameUtils(spark, sc=sc).read_dataframe(path).show(2)"
   ]
  },
  {
   "cell_type": "code",
   "execution_count": 21,
   "metadata": {},
   "outputs": [
    {
     "name": "stdout",
     "output_type": "stream",
     "text": [
      "+---------+----------+---------------------------+-----------------------------+----------------------------+----------------------+----------------------+----------------+----------+--------------------+-----------+--------------------+\n",
      "|entity_id|country_id|inei_address_geolocation_id|reniec_address_geolocation_id|sunat_address_geolocation_id|address_geolocation_id|geolocation_group_desc|geolocation_type|zipcode_id|address_zone_type_id|cutoff_date|   audtiminsert_date|\n",
      "+---------+----------+---------------------------+-----------------------------+----------------------------+----------------------+----------------------+----------------+----------+--------------------+-----------+--------------------+\n",
      "|     0011|        PE|                     040115|                         null|                        null|               0601015|              QUEQUE�A|               1|         @|                   P| 2017-09-30|2018-09-07 20:55:...|\n",
      "|     0011|        PE|                     040408|                         null|                        null|               0604008|             MACHAGUAY|               1|         @|                   P| 2017-09-30|2018-09-07 20:55:...|\n",
      "+---------+----------+---------------------------+-----------------------------+----------------------------+----------------------+----------------------+----------------+----------+--------------------+-----------+--------------------+\n",
      "only showing top 2 rows\n",
      "\n"
     ]
    }
   ],
   "source": [
    "# Read route without partition\n",
    "\n",
    "path = \"/data/master/pdco/data/cross/v_pdco_geo_location_catalog/\"\n",
    "\n",
    "DataFrameUtils(spark, sc=sc).read_dataframe(path).show(2)"
   ]
  },
  {
   "cell_type": "markdown",
   "metadata": {},
   "source": [
    "### Reading with parameters:"
   ]
  },
  {
   "cell_type": "code",
   "execution_count": 22,
   "metadata": {},
   "outputs": [
    {
     "name": "stdout",
     "output_type": "stream",
     "text": [
      "+------------------+---------------+-------------+---------------+------------------+-----------------+--------------+----------------+--------------------+\n",
      "|register_type_type|sbs_customer_id|sbs_entity_id|sbs_credit_type|product_definer_id|delay_days_number|balance_amount|credit_risk_type|   audtiminsert_date|\n",
      "+------------------+---------------+-------------+---------------+------------------+-----------------+--------------+----------------+--------------------+\n",
      "|                 2|     0198590495|        00006|             09|    14111302000000|                0|  39201.770000|               0|2020-06-01 02:08:...|\n",
      "|                 2|     0198105163|        00109|             09|    14181300000000|                0|    651.230000|               0|2020-06-01 02:08:...|\n",
      "+------------------+---------------+-------------+---------------+------------------+-----------------+--------------+----------------+--------------------+\n",
      "only showing top 2 rows\n",
      "\n"
     ]
    }
   ],
   "source": [
    "# read parquet route with last partition\n",
    "\n",
    "path = \"/data/master/pctk/data/t_pctk_rcc_balance\"\n",
    "\n",
    "DataFrameUtils(spark, sc=sc).read_dataframes(path, partition_number = 1).show(2)"
   ]
  },
  {
   "cell_type": "code",
   "execution_count": 23,
   "metadata": {},
   "outputs": [
    {
     "name": "stdout",
     "output_type": "stream",
     "text": [
      "+------------------+---------------+-------------+---------------+------------------+-----------------+--------------+----------------+--------------------+-----------+\n",
      "|register_type_type|sbs_customer_id|sbs_entity_id|sbs_credit_type|product_definer_id|delay_days_number|balance_amount|credit_risk_type|   audtiminsert_date|cutoff_date|\n",
      "+------------------+---------------+-------------+---------------+------------------+-----------------+--------------+----------------+--------------------+-----------+\n",
      "|                 2|     0198590495|        00006|             09|    14111302000000|                0|  39201.770000|               0|2020-06-01 02:08:...| 2020-07-31|\n",
      "|                 2|     0198105163|        00109|             09|    14181300000000|                0|    651.230000|               0|2020-06-01 02:08:...| 2020-07-31|\n",
      "+------------------+---------------+-------------+---------------+------------------+-----------------+--------------+----------------+--------------------+-----------+\n",
      "only showing top 2 rows\n",
      "\n"
     ]
    }
   ],
   "source": [
    "# read parquet route with the last three partitions retaining the partition name\n",
    "\n",
    "path = \"/data/master/pctk/data/t_pctk_rcc_balance\"\n",
    "\n",
    "DataFrameUtils(spark, sc=sc).read_dataframes(path, partition_number = 3, options = {\"basePath\": path}).show(2)"
   ]
  },
  {
   "cell_type": "code",
   "execution_count": 24,
   "metadata": {},
   "outputs": [
    {
     "name": "stdout",
     "output_type": "stream",
     "text": [
      "+------------------+---------------+-------------+---------------+------------------+-----------------+--------------+----------------+--------------------+-----------+\n",
      "|register_type_type|sbs_customer_id|sbs_entity_id|sbs_credit_type|product_definer_id|delay_days_number|balance_amount|credit_risk_type|   audtiminsert_date|cutoff_date|\n",
      "+------------------+---------------+-------------+---------------+------------------+-----------------+--------------+----------------+--------------------+-----------+\n",
      "|                 2|     0198590495|        00006|             09|    14111302000000|                0|  39201.770000|               0|2020-06-01 02:08:...| 2020-07-31|\n",
      "|                 2|     0198105163|        00109|             09|    14181300000000|                0|    651.230000|               0|2020-06-01 02:08:...| 2020-07-31|\n",
      "+------------------+---------------+-------------+---------------+------------------+-----------------+--------------+----------------+--------------------+-----------+\n",
      "only showing top 2 rows\n",
      "\n"
     ]
    }
   ],
   "source": [
    "# read parquet route from a date range\n",
    "\n",
    "path = \"/data/master/pctk/data/t_pctk_rcc_balance\"\n",
    "\n",
    "DataFrameUtils(spark, sc=sc).read_dataframes(path, process_date=[\"2020-05-31\", \"2020-07-31\"], options = {\"basePath\": path}).show(2)"
   ]
  }
 ],
 "metadata": {
  "kernelspec": {
   "display_name": "local1-spark2python3",
   "language": "python",
   "name": "spark-python-local1-spark2python3"
  },
  "language_info": {
   "codemirror_mode": {
    "name": "ipython",
    "version": 3
   },
   "file_extension": ".py",
   "mimetype": "text/x-python",
   "name": "python",
   "nbconvert_exporter": "python",
   "pygments_lexer": "ipython3",
   "version": "3.5.2"
  }
 },
 "nbformat": 4,
 "nbformat_minor": 4
}
