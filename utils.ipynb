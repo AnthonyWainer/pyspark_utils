{
 "cells": [
  {
   "cell_type": "markdown",
   "metadata": {
    "colab_type": "text",
    "id": "18CoUljr_5r8"
   },
   "source": [
    "# Importing HDFSUtils"
   ]
  },
  {
   "cell_type": "code",
   "execution_count": 1,
   "metadata": {
    "colab": {},
    "colab_type": "code",
    "id": "AC1iWBu0_5r9"
   },
   "outputs": [],
   "source": [
    "import sys  \n",
    "sys.path.insert(0, '/var/sds/homes/XP96619/workspace/utils/')"
   ]
  },
  {
   "cell_type": "code",
   "execution_count": 2,
   "metadata": {
    "colab": {},
    "colab_type": "code",
    "id": "gyZj0AND_5sD"
   },
   "outputs": [],
   "source": [
    "from HDFSUtils import HDFSUtils"
   ]
  },
  {
   "cell_type": "markdown",
   "metadata": {},
   "source": [
    "## Testing HDFSUtils"
   ]
  },
  {
   "cell_type": "code",
   "execution_count": 3,
   "metadata": {},
   "outputs": [
    {
     "name": "stdout",
     "output_type": "stream",
     "text": [
      "Welcome to\n",
      "      ____              __\n",
      "     / __/__  ___ _____/ /__\n",
      "    _\\ \\/ _ \\/ _ `/ __/  '_/\n",
      "   /__ / .__/\\_,_/_/ /_/\\_\\   version 2.2.0-2.7.1-de6cb42\n",
      "      /_/\n",
      "\n",
      "Using Python version 3.5.2 (default, Apr 16 2020 17:47:17)\n",
      "SparkSession available as 'spark'.\n"
     ]
    }
   ],
   "source": [
    "import unittest\n",
    "from test.HDFSUtilsTest import HDFSUtilsTest"
   ]
  },
  {
   "cell_type": "code",
   "execution_count": 4,
   "metadata": {},
   "outputs": [
    {
     "name": "stderr",
     "output_type": "stream",
     "text": [
      "test__filter_date_partitions (test.HDFSUtilsTest.HDFSUtilsTest) ... ok\n",
      "test__filter_dates (test.HDFSUtilsTest.HDFSUtilsTest) ... ok\n",
      "test__format_date_partitions (test.HDFSUtilsTest.HDFSUtilsTest) ... ok\n",
      "test__format_process_date (test.HDFSUtilsTest.HDFSUtilsTest) ... ok\n",
      "test__format_process_date_in_range (test.HDFSUtilsTest.HDFSUtilsTest) ... ok\n",
      "test__get_content (test.HDFSUtilsTest.HDFSUtilsTest) ... ok\n",
      "test__get_date (test.HDFSUtilsTest.HDFSUtilsTest) ... ok\n",
      "test__get_date_when_path_not_found (test.HDFSUtilsTest.HDFSUtilsTest) ... ok\n",
      "test__get_files (test.HDFSUtilsTest.HDFSUtilsTest) ... ok\n",
      "test__get_folders (test.HDFSUtilsTest.HDFSUtilsTest) ... ok\n",
      "test__get_jvm_content (test.HDFSUtilsTest.HDFSUtilsTest) ... ok\n",
      "test__sort_date_partitions (test.HDFSUtilsTest.HDFSUtilsTest) ... ok\n",
      "test__to_date (test.HDFSUtilsTest.HDFSUtilsTest) ... ok\n",
      "test__to_string_jvm (test.HDFSUtilsTest.HDFSUtilsTest) ... ok\n",
      "test_get_exception_with_invalid_path (test.HDFSUtilsTest.HDFSUtilsTest) ... ok\n",
      "test_get_master_with_date_partitions (test.HDFSUtilsTest.HDFSUtilsTest) ... ok\n",
      "test_get_master_without_date_partitions (test.HDFSUtilsTest.HDFSUtilsTest) ... ok\n",
      "test_get_raw_date_partitions (test.HDFSUtilsTest.HDFSUtilsTest) ... ok\n",
      "test_init (test.HDFSUtilsTest.HDFSUtilsTest) ... ok\n",
      "\n",
      "----------------------------------------------------------------------\n",
      "Ran 19 tests in 0.950s\n",
      "\n",
      "OK\n"
     ]
    }
   ],
   "source": [
    "if __name__ == '__main__':\n",
    "    unittest.main(argv=[''], verbosity=3, exit=False)"
   ]
  },
  {
   "cell_type": "markdown",
   "metadata": {
    "colab_type": "text",
    "id": "255OdtN1_5sI"
   },
   "source": [
    "### Getting the content list"
   ]
  },
  {
   "cell_type": "code",
   "execution_count": 5,
   "metadata": {
    "colab": {},
    "colab_type": "code",
    "id": "1Rn_gL1Z_5sK",
    "outputId": "68497b5c-f49f-41cf-e14a-b389570a2703"
   },
   "outputs": [
    {
     "data": {
      "text/plain": [
       "['hdfs://pedaaswork.scmx2p100.isi/data/raw/pext/data/t_pext_rcc_balance/_SUCCESS',\n",
       " 'hdfs://pedaaswork.scmx2p100.isi/data/raw/pext/data/t_pext_rcc_balance/cutoff_date=20180531',\n",
       " 'hdfs://pedaaswork.scmx2p100.isi/data/raw/pext/data/t_pext_rcc_balance/cutoff_date=20180630',\n",
       " 'hdfs://pedaaswork.scmx2p100.isi/data/raw/pext/data/t_pext_rcc_balance/cutoff_date=20180731']"
      ]
     },
     "execution_count": 5,
     "metadata": {},
     "output_type": "execute_result"
    }
   ],
   "source": [
    "path = \"/data/raw/pext/data/t_pext_rcc_balance/\"\n",
    "\n",
    "list(HDFSUtils(sc).get_content(path))"
   ]
  },
  {
   "cell_type": "markdown",
   "metadata": {
    "colab_type": "text",
    "id": "mjLvPvJ__5sR"
   },
   "source": [
    "### Getting the folders list"
   ]
  },
  {
   "cell_type": "code",
   "execution_count": 6,
   "metadata": {
    "colab": {},
    "colab_type": "code",
    "id": "U3nJWzma_5sS",
    "outputId": "4ab11a18-7301-46b0-94c4-18a0be3c2a9f"
   },
   "outputs": [
    {
     "data": {
      "text/plain": [
       "['hdfs://pedaaswork.scmx2p100.isi/data/raw/pext/data/t_pext_rcc_balance/cutoff_date=20180531',\n",
       " 'hdfs://pedaaswork.scmx2p100.isi/data/raw/pext/data/t_pext_rcc_balance/cutoff_date=20180630',\n",
       " 'hdfs://pedaaswork.scmx2p100.isi/data/raw/pext/data/t_pext_rcc_balance/cutoff_date=20180731']"
      ]
     },
     "execution_count": 6,
     "metadata": {},
     "output_type": "execute_result"
    }
   ],
   "source": [
    "path = \"/data/raw/pext/data/t_pext_rcc_balance/\"\n",
    "\n",
    "list(HDFSUtils(sc).get_folders(path))"
   ]
  },
  {
   "cell_type": "markdown",
   "metadata": {},
   "source": [
    "### Getting the files list "
   ]
  },
  {
   "cell_type": "code",
   "execution_count": 7,
   "metadata": {},
   "outputs": [
    {
     "data": {
      "text/plain": [
       "['hdfs://pedaaswork.scmx2p100.isi/data/raw/pext/data/t_pext_rcc_balance/cutoff_date=20180531/part-00001-59364dc0-fc95-4467-851a-d1667a8be31d.c000.avro',\n",
       " 'hdfs://pedaaswork.scmx2p100.isi/data/raw/pext/data/t_pext_rcc_balance/cutoff_date=20180531/part-00000-59364dc0-fc95-4467-851a-d1667a8be31d.c000.avro',\n",
       " 'hdfs://pedaaswork.scmx2p100.isi/data/raw/pext/data/t_pext_rcc_balance/cutoff_date=20180531/part-00004-59364dc0-fc95-4467-851a-d1667a8be31d.c000.avro',\n",
       " 'hdfs://pedaaswork.scmx2p100.isi/data/raw/pext/data/t_pext_rcc_balance/cutoff_date=20180531/part-00005-59364dc0-fc95-4467-851a-d1667a8be31d.c000.avro',\n",
       " 'hdfs://pedaaswork.scmx2p100.isi/data/raw/pext/data/t_pext_rcc_balance/cutoff_date=20180531/part-00007-59364dc0-fc95-4467-851a-d1667a8be31d.c000.avro',\n",
       " 'hdfs://pedaaswork.scmx2p100.isi/data/raw/pext/data/t_pext_rcc_balance/cutoff_date=20180531/part-00002-59364dc0-fc95-4467-851a-d1667a8be31d.c000.avro',\n",
       " 'hdfs://pedaaswork.scmx2p100.isi/data/raw/pext/data/t_pext_rcc_balance/cutoff_date=20180531/part-00006-59364dc0-fc95-4467-851a-d1667a8be31d.c000.avro',\n",
       " 'hdfs://pedaaswork.scmx2p100.isi/data/raw/pext/data/t_pext_rcc_balance/cutoff_date=20180531/part-00003-59364dc0-fc95-4467-851a-d1667a8be31d.c000.avro']"
      ]
     },
     "execution_count": 7,
     "metadata": {},
     "output_type": "execute_result"
    }
   ],
   "source": [
    "path = \"/data/raw/pext/data/t_pext_rcc_balance/cutoff_date=20180531\"\n",
    "\n",
    "list(HDFSUtils(sc).get_files(path))"
   ]
  },
  {
   "cell_type": "markdown",
   "metadata": {
    "colab_type": "text",
    "id": "jGi57FsD_5sX"
   },
   "source": [
    "### Getting Partitions from a Parquet Source"
   ]
  },
  {
   "cell_type": "code",
   "execution_count": 8,
   "metadata": {
    "colab": {},
    "colab_type": "code",
    "id": "KFpJQRJ4_5sY",
    "outputId": "60cc5916-86c5-4c9d-8d93-20037e5963e0"
   },
   "outputs": [
    {
     "data": {
      "text/plain": [
       "['2020-01-31',\n",
       " '2020-01-30',\n",
       " '2020-01-29',\n",
       " '2020-01-28',\n",
       " '2020-01-27',\n",
       " '2020-01-21',\n",
       " '2019-09-30',\n",
       " '2019-09-20',\n",
       " '2019-07-31',\n",
       " '2019-06-28',\n",
       " '2019-05-27',\n",
       " '2019-05-26',\n",
       " '2019-05-24',\n",
       " '2019-05-23',\n",
       " '2019-04-30',\n",
       " '2019-03-31',\n",
       " '2019-02-28',\n",
       " '2018-12-13',\n",
       " '2018-10-31',\n",
       " '2018-08-14',\n",
       " '2018-06-08',\n",
       " '2018-05-27',\n",
       " '2017-09-30',\n",
       " '2017-09-29',\n",
       " '2017-08-31',\n",
       " '2017-07-31',\n",
       " '2017-06-30',\n",
       " '2017-05-31',\n",
       " '2017-04-28',\n",
       " '2017-03-31',\n",
       " '2017-02-28',\n",
       " '2017-01-31',\n",
       " '2016-12-31']"
      ]
     },
     "execution_count": 8,
     "metadata": {},
     "output_type": "execute_result"
    }
   ],
   "source": [
    "# Getting all partitions\n",
    "path = \"/data/master/pdco/data/retailBusinessBanking/t_pdco_credit_card_mov/\"\n",
    "HDFSUtils(sc).get_date_partitions(path)"
   ]
  },
  {
   "cell_type": "code",
   "execution_count": 9,
   "metadata": {
    "colab": {},
    "colab_type": "code",
    "id": "uFHiQ8bM_5sd",
    "outputId": "41521038-e5eb-46f7-c7cc-27b3abee354c"
   },
   "outputs": [
    {
     "data": {
      "text/plain": [
       "['2020-01-31', '2020-01-30', '2020-01-29']"
      ]
     },
     "execution_count": 9,
     "metadata": {},
     "output_type": "execute_result"
    }
   ],
   "source": [
    "# Getting with partition_number:\n",
    "\n",
    "path = \"/data/master/pdco/data/retailBusinessBanking/t_pdco_credit_card_mov/\"\n",
    "HDFSUtils(sc).get_date_partitions(path, partition_number = 3)"
   ]
  },
  {
   "cell_type": "code",
   "execution_count": 10,
   "metadata": {
    "colab": {},
    "colab_type": "code",
    "id": "jzPKRYuE_5sk",
    "outputId": "fe447b49-28c1-4517-c78f-3bbc9fa0b7c0"
   },
   "outputs": [
    {
     "data": {
      "text/plain": [
       "['2020-01-21',\n",
       " '2019-09-30',\n",
       " '2019-09-20',\n",
       " '2019-07-31',\n",
       " '2019-06-28',\n",
       " '2019-05-27',\n",
       " '2019-05-26',\n",
       " '2019-05-24',\n",
       " '2019-05-23',\n",
       " '2019-04-30',\n",
       " '2019-03-31',\n",
       " '2019-02-28',\n",
       " '2018-12-13',\n",
       " '2018-10-31',\n",
       " '2018-08-14']"
      ]
     },
     "execution_count": 10,
     "metadata": {},
     "output_type": "execute_result"
    }
   ],
   "source": [
    "#  Getting with a date range,\n",
    "#  Put the minor date in the first element then in the second the major date.\n",
    "\n",
    "path = \"/data/master/pdco/data/retailBusinessBanking/t_pdco_credit_card_mov/\"\n",
    "HDFSUtils(sc).get_date_partitions(path, process_date = [\"2018-08-14\", \"2020-01-21\"])"
   ]
  },
  {
   "cell_type": "code",
   "execution_count": 11,
   "metadata": {
    "colab": {},
    "colab_type": "code",
    "id": "zxsiAyM9_5sp",
    "outputId": "1681c4ec-f0bd-4125-f29c-735ebf6037f4"
   },
   "outputs": [
    {
     "data": {
      "text/plain": [
       "['2018-08-14',\n",
       " '2018-06-08',\n",
       " '2018-05-27',\n",
       " '2017-09-30',\n",
       " '2017-09-29',\n",
       " '2017-08-31',\n",
       " '2017-07-31',\n",
       " '2017-06-30',\n",
       " '2017-05-31',\n",
       " '2017-04-28',\n",
       " '2017-03-31',\n",
       " '2017-02-28',\n",
       " '2017-01-31',\n",
       " '2016-12-31']"
      ]
     },
     "execution_count": 11,
     "metadata": {},
     "output_type": "execute_result"
    }
   ],
   "source": [
    "#  Getting with a cut-off date\n",
    "\n",
    "path = \"/data/master/pdco/data/retailBusinessBanking/t_pdco_credit_card_mov/\"\n",
    "HDFSUtils(sc).get_date_partitions(path, process_date = \"2018-08-14\")"
   ]
  },
  {
   "cell_type": "code",
   "execution_count": 12,
   "metadata": {},
   "outputs": [
    {
     "data": {
      "text/plain": [
       "['2020-01-31']"
      ]
     },
     "execution_count": 12,
     "metadata": {},
     "output_type": "execute_result"
    }
   ],
   "source": [
    "# Max Partitions\n",
    "path = \"/data/master/pdco/data/retailBusinessBanking/t_pdco_credit_card_mov/\"\n",
    "HDFSUtils(sc).get_date_partitions(path, partition_number= 1)"
   ]
  },
  {
   "cell_type": "code",
   "execution_count": 13,
   "metadata": {},
   "outputs": [
    {
     "data": {
      "text/plain": [
       "['2016-12-31']"
      ]
     },
     "execution_count": 13,
     "metadata": {},
     "output_type": "execute_result"
    }
   ],
   "source": [
    "# Min Partitions\n",
    "path = \"/data/master/pdco/data/retailBusinessBanking/t_pdco_credit_card_mov/\"\n",
    "HDFSUtils(sc).get_date_partitions(path, partition_number= 1, in_reverse = False)"
   ]
  },
  {
   "cell_type": "code",
   "execution_count": 14,
   "metadata": {
    "colab": {},
    "colab_type": "code",
    "id": "xRjl7cgA_5ss",
    "outputId": "0aeef03c-07b6-48a7-eb30-17b6b4ac715d"
   },
   "outputs": [
    {
     "data": {
      "text/plain": [
       "['2018-06-08',\n",
       " '2018-05-27',\n",
       " '2017-09-30',\n",
       " '2017-09-29',\n",
       " '2017-08-31',\n",
       " '2017-07-31',\n",
       " '2017-06-30',\n",
       " '2017-05-31',\n",
       " '2017-04-28',\n",
       " '2017-03-31',\n",
       " '2017-02-28',\n",
       " '2017-01-31',\n",
       " '2016-12-31']"
      ]
     },
     "execution_count": 14,
     "metadata": {},
     "output_type": "execute_result"
    }
   ],
   "source": [
    "# Getting with a cut-off date, adding an operation\n",
    "\n",
    "path = \"/data/master/pdco/data/retailBusinessBanking/t_pdco_credit_card_mov/\"\n",
    "HDFSUtils(sc).get_date_partitions(path, process_date = \"2018-08-14\", operation=\"<\")"
   ]
  },
  {
   "cell_type": "code",
   "execution_count": 15,
   "metadata": {
    "colab": {},
    "colab_type": "code",
    "id": "ngSkXq0s_5sy",
    "outputId": "ce24c4cb-202e-452c-d2a8-54433348ba93"
   },
   "outputs": [
    {
     "data": {
      "text/plain": [
       "['20180731', '20180630', '20180531']"
      ]
     },
     "execution_count": 15,
     "metadata": {},
     "output_type": "execute_result"
    }
   ],
   "source": [
    "# Getting partitions from an avro source, for this we pass the date_format = '%Y%m%d'\n",
    "\n",
    "path = \"/data/raw/pext/data/t_pext_rcc_balance\"\n",
    "HDFSUtils(sc, date_format = '%Y%m%d').get_date_partitions(path)"
   ]
  },
  {
   "cell_type": "markdown",
   "metadata": {
    "colab_type": "text",
    "id": "JfAZqU_D_5s3"
   },
   "source": [
    "# Importing DataFrameUtils"
   ]
  },
  {
   "cell_type": "code",
   "execution_count": 16,
   "metadata": {
    "colab": {},
    "colab_type": "code",
    "id": "AC1iWBu0_5r9"
   },
   "outputs": [],
   "source": [
    "import sys  \n",
    "sys.path.insert(0, '/var/sds/homes/XP96619/workspace/utils/')"
   ]
  },
  {
   "cell_type": "code",
   "execution_count": 17,
   "metadata": {
    "colab": {},
    "colab_type": "code",
    "id": "tt4_rVmm_5s4"
   },
   "outputs": [],
   "source": [
    "from DataFrameUtils import DataFrameUtils"
   ]
  },
  {
   "cell_type": "markdown",
   "metadata": {},
   "source": [
    "## Testing DataFrameUtils"
   ]
  },
  {
   "cell_type": "code",
   "execution_count": 18,
   "metadata": {},
   "outputs": [],
   "source": [
    "import unittest\n",
    "from test.DataFrameUtilsTest import DataFrameUtilsTest"
   ]
  },
  {
   "cell_type": "code",
   "execution_count": 19,
   "metadata": {},
   "outputs": [
    {
     "name": "stderr",
     "output_type": "stream",
     "text": [
      "test__add_partition_name (test.DataFrameUtilsTest.DataFrameUtilsTest) ... ok\n",
      "test__concat_path_with_partition_name (test.DataFrameUtilsTest.DataFrameUtilsTest) ... ok\n",
      "test__extract_extension (test.DataFrameUtilsTest.DataFrameUtilsTest) ... ok\n",
      "test__extract_extension_with_invalid_extension (test.DataFrameUtilsTest.DataFrameUtilsTest) ... ok\n",
      "test__extract_path (test.DataFrameUtilsTest.DataFrameUtilsTest) ... ok\n",
      "test__extract_path_with_partition_name (test.DataFrameUtilsTest.DataFrameUtilsTest) ... ok\n",
      "test__extract_path_with_paths (test.DataFrameUtilsTest.DataFrameUtilsTest) ... ok\n",
      "test__get_format_type (test.DataFrameUtilsTest.DataFrameUtilsTest) ... ok\n",
      "test__get_paths_with_process_name (test.DataFrameUtilsTest.DataFrameUtilsTest) ... ok\n",
      "test__search_extension (test.DataFrameUtilsTest.DataFrameUtilsTest) ... ok\n",
      "test_get_format_type_from_path (test.DataFrameUtilsTest.DataFrameUtilsTest) ... ok\n",
      "test_read_dataframe (test.DataFrameUtilsTest.DataFrameUtilsTest) ... /usr/lib/python3.5/importlib/_bootstrap.py:222: RuntimeWarning: numpy.ufunc size changed, may indicate binary incompatibility. Expected 216, got 192\n",
      "  return f(*args, **kwds)\n",
      "/usr/lib/python3.5/importlib/_bootstrap.py:222: RuntimeWarning: numpy.ufunc size changed, may indicate binary incompatibility. Expected 216, got 192\n",
      "  return f(*args, **kwds)\n",
      "ok\n",
      "test_read_dataframe_with_path (test.DataFrameUtilsTest.DataFrameUtilsTest) ... ok\n",
      "test_read_dataframe_with_path_retrieving_partition_name (test.DataFrameUtilsTest.DataFrameUtilsTest) ... ok\n",
      "test_read_dataframes (test.DataFrameUtilsTest.DataFrameUtilsTest) ... ok\n",
      "test_read_dataframes_with_date_range (test.DataFrameUtilsTest.DataFrameUtilsTest) ... /usr/lib/python3.5/socket.py:646: ResourceWarning: unclosed <socket.socket fd=53, family=AddressFamily.AF_INET, type=SocketKind.SOCK_STREAM, proto=6, laddr=('127.0.0.1', 32970), raddr=('127.0.0.1', 39124)>\n",
      "  self._sock = None\n",
      "ok\n",
      "test__filter_date_partitions (test.HDFSUtilsTest.HDFSUtilsTest) ... ok\n",
      "test__filter_dates (test.HDFSUtilsTest.HDFSUtilsTest) ... ok\n",
      "test__format_date_partitions (test.HDFSUtilsTest.HDFSUtilsTest) ... ok\n",
      "test__format_process_date (test.HDFSUtilsTest.HDFSUtilsTest) ... ok\n",
      "test__format_process_date_in_range (test.HDFSUtilsTest.HDFSUtilsTest) ... ok\n",
      "test__get_content (test.HDFSUtilsTest.HDFSUtilsTest) ... ok\n",
      "test__get_date (test.HDFSUtilsTest.HDFSUtilsTest) ... ok\n",
      "test__get_date_when_path_not_found (test.HDFSUtilsTest.HDFSUtilsTest) ... ok\n",
      "test__get_files (test.HDFSUtilsTest.HDFSUtilsTest) ... ok\n",
      "test__get_folders (test.HDFSUtilsTest.HDFSUtilsTest) ... ok\n",
      "test__get_jvm_content (test.HDFSUtilsTest.HDFSUtilsTest) ... ok\n",
      "test__sort_date_partitions (test.HDFSUtilsTest.HDFSUtilsTest) ... ok\n",
      "test__to_date (test.HDFSUtilsTest.HDFSUtilsTest) ... ok\n",
      "test__to_string_jvm (test.HDFSUtilsTest.HDFSUtilsTest) ... ok\n",
      "test_get_exception_with_invalid_path (test.HDFSUtilsTest.HDFSUtilsTest) ... ok\n",
      "test_get_master_with_date_partitions (test.HDFSUtilsTest.HDFSUtilsTest) ... ok\n",
      "test_get_master_without_date_partitions (test.HDFSUtilsTest.HDFSUtilsTest) ... ok\n",
      "test_get_raw_date_partitions (test.HDFSUtilsTest.HDFSUtilsTest) ... ok\n",
      "test_init (test.HDFSUtilsTest.HDFSUtilsTest) ... ok\n",
      "\n",
      "----------------------------------------------------------------------\n",
      "Ran 35 tests in 7.136s\n",
      "\n",
      "OK\n"
     ]
    }
   ],
   "source": [
    "if __name__ == '__main__':\n",
    "    unittest.main(argv=[''], verbosity=3, exit=False)"
   ]
  },
  {
   "cell_type": "markdown",
   "metadata": {
    "colab_type": "text",
    "id": "YjVI2pbz_5s8"
   },
   "source": [
    "### Reading without parameters."
   ]
  },
  {
   "cell_type": "code",
   "execution_count": 20,
   "metadata": {
    "colab": {},
    "colab_type": "code",
    "id": "Ew5cfaHC_5s9",
    "outputId": "f11927d1-38f4-46c6-ac75-a0c73c2d76d2"
   },
   "outputs": [
    {
     "name": "stdout",
     "output_type": "stream",
     "text": [
      "+------------------+---------------+-------------+---------------+------------------+-----------------+--------------+----------------+--------------------+-----------+\n",
      "|register_type_type|sbs_customer_id|sbs_entity_id|sbs_credit_type|product_definer_id|delay_days_number|balance_amount|credit_risk_type|   audtiminsert_date|cutoff_date|\n",
      "+------------------+---------------+-------------+---------------+------------------+-----------------+--------------+----------------+--------------------+-----------+\n",
      "|                 2|     0198590495|        00006|             09|    14111302000000|                0|  39201.770000|               0|2020-06-01 02:08:...| 2020-07-31|\n",
      "|                 2|     0198105163|        00109|             09|    14181300000000|                0|    651.230000|               0|2020-06-01 02:08:...| 2020-07-31|\n",
      "+------------------+---------------+-------------+---------------+------------------+-----------------+--------------+----------------+--------------------+-----------+\n",
      "only showing top 2 rows\n",
      "\n"
     ]
    }
   ],
   "source": [
    "# Reading .parquet file path without specifying partition\n",
    "\n",
    "path = \"/data/master/pctk/data/t_pctk_rcc_balance\"\n",
    "\n",
    "DataFrameUtils(spark, sc=sc).read_dataframe(path).show(2)"
   ]
  },
  {
   "cell_type": "code",
   "execution_count": 21,
   "metadata": {
    "colab": {},
    "colab_type": "code",
    "id": "bUNwYOhU_5tB",
    "outputId": "8f40f319-4456-4a75-83de-b8140e103b19"
   },
   "outputs": [
    {
     "name": "stdout",
     "output_type": "stream",
     "text": [
      "+------------------+---------------+-------------+---------------+------------------+-----------------+--------------+----------------+--------------------+\n",
      "|register_type_type|sbs_customer_id|sbs_entity_id|sbs_credit_type|product_definer_id|delay_days_number|balance_amount|credit_risk_type|   audtiminsert_date|\n",
      "+------------------+---------------+-------------+---------------+------------------+-----------------+--------------+----------------+--------------------+\n",
      "|                 2|     0198590495|        00006|             09|    14111302000000|                0|  39201.770000|               0|2020-06-01 02:08:...|\n",
      "|                 2|     0198105163|        00109|             09|    14181300000000|                0|    651.230000|               0|2020-06-01 02:08:...|\n",
      "+------------------+---------------+-------------+---------------+------------------+-----------------+--------------+----------------+--------------------+\n",
      "only showing top 2 rows\n",
      "\n"
     ]
    }
   ],
   "source": [
    "# Reading .parquet files by specifying partition\n",
    "\n",
    "paths = [\"/data/master/pctk/data/t_pctk_rcc_balance/cutoff_date=2020-06-30\", \"/data/master/pctk/data/t_pctk_rcc_balance/cutoff_date=2020-07-31\"]\n",
    "\n",
    "DataFrameUtils(spark, sc=sc).read_dataframe(paths=paths).show(2)"
   ]
  },
  {
   "cell_type": "code",
   "execution_count": 22,
   "metadata": {
    "colab": {},
    "colab_type": "code",
    "id": "rfpmoLnf_5tH",
    "outputId": "327ed964-5983-4923-83ad-0568b30f9dc8"
   },
   "outputs": [
    {
     "name": "stdout",
     "output_type": "stream",
     "text": [
      "+------------------+---------------+-------------+---------------+------------------+-----------------+--------------+----------------+--------------------+-----------+\n",
      "|register_type_type|sbs_customer_id|sbs_entity_id|sbs_credit_type|product_definer_id|delay_days_number|balance_amount|credit_risk_type|   audtiminsert_date|cutoff_date|\n",
      "+------------------+---------------+-------------+---------------+------------------+-----------------+--------------+----------------+--------------------+-----------+\n",
      "|                 2|     0198590495|        00006|             09|    14111302000000|                0|  39201.770000|               0|2020-06-01 02:08:...| 2020-07-31|\n",
      "|                 2|     0198105163|        00109|             09|    14181300000000|                0|    651.230000|               0|2020-06-01 02:08:...| 2020-07-31|\n",
      "+------------------+---------------+-------------+---------------+------------------+-----------------+--------------+----------------+--------------------+-----------+\n",
      "only showing top 2 rows\n",
      "\n"
     ]
    }
   ],
   "source": [
    "# Reading .parquet paths by specifying partition and retrieving the partition name\n",
    "\n",
    "paths = [\"/data/master/pctk/data/t_pctk_rcc_balance/cutoff_date=2020-06-30\", \"/data/master/pctk/data/t_pctk_rcc_balance/cutoff_date=2020-07-31\"]\n",
    "\n",
    "DataFrameUtils(spark, sc=sc).read_dataframe(paths=paths, options = {'basePath': \"/data/master/pctk/data/t_pctk_rcc_balance/\"}).show(2)"
   ]
  },
  {
   "cell_type": "code",
   "execution_count": 23,
   "metadata": {
    "colab": {},
    "colab_type": "code",
    "id": "r_gTCPUv_5tL",
    "outputId": "d0b289af-f36b-4683-ea9f-ae0c90a58ba7"
   },
   "outputs": [
    {
     "name": "stdout",
     "output_type": "stream",
     "text": [
      "+------------------+---------------+-------------+---------------+------------------+-----------------+------------------+----------------+-----------------+-----------+\n",
      "|register_type_type|sbs_customer_id|sbs_entity_id|sbs_credit_type|product_definer_id|delay_days_number|    balance_amount|credit_risk_type|audtiminsert_date|cutoff_date|\n",
      "+------------------+---------------+-------------+---------------+------------------+-----------------+------------------+----------------+-----------------+-----------+\n",
      "|                 2|     0095266282|        00238|             10|    14110206020000|             0000|000000000000192030|               0|       1588985191|   20180531|\n",
      "|                 2|     0095266282|        00238|             10|    84141000000000|             0000|000000000000192030|               0|       1588985191|   20180531|\n",
      "+------------------+---------------+-------------+---------------+------------------+-----------------+------------------+----------------+-----------------+-----------+\n",
      "only showing top 2 rows\n",
      "\n"
     ]
    }
   ],
   "source": [
    "# Reading .avro file path without specifying partition\n",
    "\n",
    "path = \"/data/raw/pext/data/t_pext_rcc_balance/\"\n",
    "\n",
    "DataFrameUtils(spark, sc=sc, date_format = '%Y%m%d').read_dataframe(path).show(2)"
   ]
  },
  {
   "cell_type": "code",
   "execution_count": 24,
   "metadata": {
    "colab": {},
    "colab_type": "code",
    "id": "P4dB66D8_5tO",
    "outputId": "721a9416-b180-469c-812a-2ea05348ec3f"
   },
   "outputs": [
    {
     "name": "stdout",
     "output_type": "stream",
     "text": [
      "+-------------+------------+-----------+------+--------------------+------------+------------------------+------------------+\n",
      "|SubscriberKey|EmailAddress|FLG_CLIENTE|SendID|           EventDate|   EventType|TriggeredSendExternalKey|       UnsubReason|\n",
      "+-------------+------------+-----------+------+--------------------+------------+------------------------+------------------+\n",
      "|    105zbcvi9|        null|          1|146808|2018-09-04 10:17:...|Unsubscribed|                    null|enlace_baja_footer|\n",
      "|    11j50rzzz|        null|          1|146808|2018-09-04 10:17:...|Unsubscribed|                    null|enlace_baja_footer|\n",
      "+-------------+------------+-----------+------+--------------------+------------+------------------------+------------------+\n",
      "only showing top 2 rows\n",
      "\n"
     ]
    }
   ],
   "source": [
    "# Reading .txt file path\n",
    "\n",
    "path = \"/in/staging/ratransmit/external/unsubs_20161031.txt\"\n",
    "\n",
    "DataFrameUtils(spark, sc=sc).read_dataframe(path, options={\"delimiter\":\"|\", \"header\": True}).show(2)"
   ]
  },
  {
   "cell_type": "code",
   "execution_count": 25,
   "metadata": {
    "colab": {},
    "colab_type": "code",
    "id": "mzmwshMI_5tT",
    "outputId": "f35e323d-d557-4b01-b633-adc4fe00dd54"
   },
   "outputs": [
    {
     "name": "stdout",
     "output_type": "stream",
     "text": [
      "+-------+----------+---------+\n",
      "|user_id|first_name|last_name|\n",
      "+-------+----------+---------+\n",
      "|    001|       leo|    lopez|\n",
      "|    001|       leo|  juanelo|\n",
      "+-------+----------+---------+\n",
      "only showing top 2 rows\n",
      "\n"
     ]
    }
   ],
   "source": [
    "# Reading .csv file path\n",
    "\n",
    "path = \"/in/staging/ratransmit/external/users_20180627.csv\"\n",
    "\n",
    "DataFrameUtils(spark, sc=sc).read_dataframe(path, options={\"header\":True}).show(2)"
   ]
  },
  {
   "cell_type": "code",
   "execution_count": 26,
   "metadata": {
    "colab": {},
    "colab_type": "code",
    "id": "kzQ1bQPf_5tZ",
    "outputId": "7c1319ca-7521-4156-c82d-8a8dba3b9e64"
   },
   "outputs": [
    {
     "name": "stdout",
     "output_type": "stream",
     "text": [
      "+----+---+----+---+--------+------------------+----+----+----------+---+---------------+----+-----+-----+----+--------------------+----+----+----+----+----+\n",
      "| _c0|_c1| _c2|_c3|     _c4|               _c5| _c6| _c7|       _c8|_c9|           _c10|_c11| _c12| _c13|_c14|                _c15|_c16|_c17|_c18|_c19|_c20|\n",
      "+----+---+----+---+--------+------------------+----+----+----------+---+---------------+----+-----+-----+----+--------------------+----+----+----+----+----+\n",
      "|0011|009|0383|  3|21773408|001107855001558510|0050|0001|0001-01-01|  0|141903020206061| PEN| 3.50| 3.50|   R|BAZO FLORES CAROL...|  06|  02|  99|   ?|   ?|\n",
      "|0011|009|0272|  3|26877532|001102725000188850|0050|0001|0001-01-01|  0|141903020106021| PEN|16.65|16.65|   R|CRUZ MEDINA CLAUD...|  06|  02|  99|   ?|   ?|\n",
      "+----+---+----+---+--------+------------------+----+----+----------+---+---------------+----+-----+-----+----+--------------------+----+----+----+----+----+\n",
      "only showing top 2 rows\n",
      "\n"
     ]
    }
   ],
   "source": [
    "# Reading .dat file path\n",
    "\n",
    "path = \"/in/staging/ratransmit/external/v_pdco_monthly_transactional_rcd_20190128.dat\"\n",
    "\n",
    "DataFrameUtils(spark, sc=sc).read_dataframe(path, options={\"delimiter\":\"|\"}).show(2)"
   ]
  },
  {
   "cell_type": "code",
   "execution_count": 27,
   "metadata": {
    "colab": {},
    "colab_type": "code",
    "id": "1s1iOeIS_5td",
    "outputId": "fa2a5378-525b-485c-90fb-3ab43d14eff1"
   },
   "outputs": [
    {
     "name": "stdout",
     "output_type": "stream",
     "text": [
      "+------+\n",
      "|   _c0|\n",
      "+------+\n",
      "|121193|\n",
      "+------+\n",
      "\n"
     ]
    }
   ],
   "source": [
    "# Reading .ctl file path\n",
    "\n",
    "path = \"/in/staging/ratransmit/external/kexc/controlFeedBack_JOURNEY_20200512.ctl\"\n",
    "\n",
    "DataFrameUtils(spark, sc=sc).read_dataframe(path).show(2)"
   ]
  },
  {
   "cell_type": "code",
   "execution_count": 28,
   "metadata": {
    "colab": {},
    "colab_type": "code",
    "id": "tfkwPIqw_5ti",
    "outputId": "1a1de6e9-b3f1-4b53-c551-ce8d95f7b197"
   },
   "outputs": [
    {
     "name": "stdout",
     "output_type": "stream",
     "text": [
      "+---------+----------+---------------------------+-----------------------------+----------------------------+----------------------+----------------------+----------------+----------+--------------------+-----------+--------------------+\n",
      "|entity_id|country_id|inei_address_geolocation_id|reniec_address_geolocation_id|sunat_address_geolocation_id|address_geolocation_id|geolocation_group_desc|geolocation_type|zipcode_id|address_zone_type_id|cutoff_date|   audtiminsert_date|\n",
      "+---------+----------+---------------------------+-----------------------------+----------------------------+----------------------+----------------------+----------------+----------+--------------------+-----------+--------------------+\n",
      "|     0011|        PE|                     040115|                         null|                        null|               0601015|              QUEQUE�A|               1|         @|                   P| 2017-09-30|2018-09-07 20:55:...|\n",
      "|     0011|        PE|                     040408|                         null|                        null|               0604008|             MACHAGUAY|               1|         @|                   P| 2017-09-30|2018-09-07 20:55:...|\n",
      "+---------+----------+---------------------------+-----------------------------+----------------------------+----------------------+----------------------+----------------+----------+--------------------+-----------+--------------------+\n",
      "only showing top 2 rows\n",
      "\n"
     ]
    }
   ],
   "source": [
    "# Reading path without partition\n",
    "\n",
    "path = \"/data/master/pdco/data/cross/v_pdco_geo_location_catalog/\"\n",
    "\n",
    "DataFrameUtils(spark, sc=sc).read_dataframe(path).show(2)"
   ]
  },
  {
   "cell_type": "markdown",
   "metadata": {
    "colab_type": "text",
    "id": "5DsU_b7r_5tm"
   },
   "source": [
    "### Reading with parameters:"
   ]
  },
  {
   "cell_type": "code",
   "execution_count": 29,
   "metadata": {
    "colab": {},
    "colab_type": "code",
    "id": "We6z6nNU_5tm",
    "outputId": "1b382f19-e8e0-43b2-c4ca-c33dcc214a51"
   },
   "outputs": [
    {
     "name": "stdout",
     "output_type": "stream",
     "text": [
      "+------------------+---------------+-------------+---------------+------------------+-----------------+--------------+----------------+--------------------+\n",
      "|register_type_type|sbs_customer_id|sbs_entity_id|sbs_credit_type|product_definer_id|delay_days_number|balance_amount|credit_risk_type|   audtiminsert_date|\n",
      "+------------------+---------------+-------------+---------------+------------------+-----------------+--------------+----------------+--------------------+\n",
      "|                 2|     0198590495|        00006|             09|    14111302000000|                0|  39201.770000|               0|2020-06-01 02:08:...|\n",
      "|                 2|     0198105163|        00109|             09|    14181300000000|                0|    651.230000|               0|2020-06-01 02:08:...|\n",
      "+------------------+---------------+-------------+---------------+------------------+-----------------+--------------+----------------+--------------------+\n",
      "only showing top 2 rows\n",
      "\n"
     ]
    }
   ],
   "source": [
    "# Reading parquet file with last partition\n",
    "\n",
    "path = \"/data/master/pctk/data/t_pctk_rcc_balance\"\n",
    "\n",
    "DataFrameUtils(spark, sc=sc).read_dataframes(path, partition_number = 1).show(2)"
   ]
  },
  {
   "cell_type": "code",
   "execution_count": 30,
   "metadata": {
    "colab": {},
    "colab_type": "code",
    "id": "rIZkqZ0r_5tr",
    "outputId": "6bb258fd-71c8-4968-c203-4aca66f609c8"
   },
   "outputs": [
    {
     "name": "stdout",
     "output_type": "stream",
     "text": [
      "+------------------+---------------+-------------+---------------+------------------+-----------------+--------------+----------------+--------------------+-----------+\n",
      "|register_type_type|sbs_customer_id|sbs_entity_id|sbs_credit_type|product_definer_id|delay_days_number|balance_amount|credit_risk_type|   audtiminsert_date|cutoff_date|\n",
      "+------------------+---------------+-------------+---------------+------------------+-----------------+--------------+----------------+--------------------+-----------+\n",
      "|                 2|     0198590495|        00006|             09|    14111302000000|                0|  39201.770000|               0|2020-06-01 02:08:...| 2020-07-31|\n",
      "|                 2|     0198105163|        00109|             09|    14181300000000|                0|    651.230000|               0|2020-06-01 02:08:...| 2020-07-31|\n",
      "+------------------+---------------+-------------+---------------+------------------+-----------------+--------------+----------------+--------------------+-----------+\n",
      "only showing top 2 rows\n",
      "\n"
     ]
    }
   ],
   "source": [
    "# Reading parquet file with the last three partitions retaining the partition name\n",
    "\n",
    "path = \"/data/master/pctk/data/t_pctk_rcc_balance\"\n",
    "\n",
    "DataFrameUtils(spark, sc=sc).read_dataframes(path, partition_number = 3, options = {\"basePath\": path}).show(2)"
   ]
  },
  {
   "cell_type": "code",
   "execution_count": 31,
   "metadata": {
    "colab": {},
    "colab_type": "code",
    "id": "i1NgFigi_5tu",
    "outputId": "f9208c42-f3cd-4060-a97c-edb013db22b6"
   },
   "outputs": [
    {
     "name": "stdout",
     "output_type": "stream",
     "text": [
      "+------------------+---------------+-------------+---------------+------------------+-----------------+--------------+----------------+--------------------+-----------+\n",
      "|register_type_type|sbs_customer_id|sbs_entity_id|sbs_credit_type|product_definer_id|delay_days_number|balance_amount|credit_risk_type|   audtiminsert_date|cutoff_date|\n",
      "+------------------+---------------+-------------+---------------+------------------+-----------------+--------------+----------------+--------------------+-----------+\n",
      "|                 2|     0198590495|        00006|             09|    14111302000000|                0|  39201.770000|               0|2020-06-01 02:08:...| 2020-07-31|\n",
      "|                 2|     0198105163|        00109|             09|    14181300000000|                0|    651.230000|               0|2020-06-01 02:08:...| 2020-07-31|\n",
      "+------------------+---------------+-------------+---------------+------------------+-----------------+--------------+----------------+--------------------+-----------+\n",
      "only showing top 2 rows\n",
      "\n"
     ]
    }
   ],
   "source": [
    "# Reading parquet file from a date range\n",
    "\n",
    "path = \"/data/master/pctk/data/t_pctk_rcc_balance\"\n",
    "\n",
    "DataFrameUtils(spark, sc=sc).read_dataframes(path, process_date=[\"2020-05-31\", \"2020-07-31\"], options = {\"basePath\": path}).show(2)"
   ]
  }
 ],
 "metadata": {
  "colab": {
   "collapsed_sections": [],
   "name": "utils.ipynb",
   "provenance": []
  },
  "kernelspec": {
   "display_name": "local1-spark2python3",
   "language": "python",
   "name": "spark-python-local1-spark2python3"
  },
  "language_info": {
   "codemirror_mode": {
    "name": "ipython",
    "version": 3
   },
   "file_extension": ".py",
   "mimetype": "text/x-python",
   "name": "python",
   "nbconvert_exporter": "python",
   "pygments_lexer": "ipython3",
   "version": "3.5.2"
  }
 },
 "nbformat": 4,
 "nbformat_minor": 4
}